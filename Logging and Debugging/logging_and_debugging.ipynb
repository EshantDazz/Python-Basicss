{
 "cells": [
  {
   "attachments": {},
   "cell_type": "markdown",
   "metadata": {},
   "source": [
    "## <font color='red'>Debugging and Logging</font>"
   ]
  },
  {
   "cell_type": "code",
   "execution_count": 15,
   "metadata": {},
   "outputs": [
    {
     "name": "stdout",
     "output_type": "stream",
     "text": [
      "30\n",
      "-10\n",
      "200\n",
      "2\n"
     ]
    }
   ],
   "source": [
    "def add(x,y):\n",
    "    return x+y\n",
    "\n",
    "def substract(x,y):\n",
    "    return x-y\n",
    "\n",
    "def multiply(x,y):\n",
    "    return x*y\n",
    "\n",
    "def divide(x,y):\n",
    "    return x//y\n",
    "\n",
    "\n",
    "n1=10\n",
    "n2=20\n",
    "\n",
    "sum=add(n1,n2)\n",
    "print(sum)\n",
    "diff=substract(n1,n2)\n",
    "print(diff)\n",
    "mul=multiply(n1,n2)\n",
    "print(mul)\n",
    "div=divide(n2,n1)\n",
    "print(div)"
   ]
  },
  {
   "cell_type": "code",
   "execution_count": null,
   "metadata": {},
   "outputs": [],
   "source": []
  },
  {
   "attachments": {},
   "cell_type": "markdown",
   "metadata": {},
   "source": [
    "**Logging and debugging are critical techniques for identifying and fixing issues in your Python code. They provide insights into the flow and state of your program, allowing you to uncover and diagnose problems.**"
   ]
  },
  {
   "attachments": {},
   "cell_type": "markdown",
   "metadata": {},
   "source": [
    "Logging:\n",
    "Logging is the process of recording events in your application to provide an audit trail that can be used to understand the sequence of events leading to an issue. Here are a few reasons why logging is important:\n",
    "\n",
    "- Error Diagnosis: Logging helps in identifying and diagnosing errors and exceptions that may occur in your program.\n",
    "- Application Flow Tracking: By strategically placing log statements in your code, you can track the execution flow of your program and the state of the variables at any point.\n",
    "- Problem Prevention: Regularly reviewing logs can help identify patterns and potential issues before they cause significant problems.\n",
    "- Audit Purposes: Logs can provide a historical record of all actions performed by the application, useful for audit purposes.\n",
    "\n"
   ]
  },
  {
   "cell_type": "code",
   "execution_count": 16,
   "metadata": {},
   "outputs": [],
   "source": [
    "#It is basically a method to track and monitor the application"
   ]
  },
  {
   "attachments": {},
   "cell_type": "markdown",
   "metadata": {},
   "source": [
    "**Debugging is the process of identifying and fixing errors in your code. Debugging tools (debuggers) allow you to execute your program step by step, inspect variables, evaluate expressions, and more.**"
   ]
  },
  {
   "cell_type": "code",
   "execution_count": 17,
   "metadata": {},
   "outputs": [],
   "source": [
    "#Log is critical part of a system documentaion about runtime status of application"
   ]
  },
  {
   "cell_type": "code",
   "execution_count": null,
   "metadata": {},
   "outputs": [],
   "source": []
  },
  {
   "attachments": {},
   "cell_type": "markdown",
   "metadata": {},
   "source": [
    "### Logging"
   ]
  },
  {
   "cell_type": "code",
   "execution_count": 23,
   "metadata": {},
   "outputs": [],
   "source": [
    "#First level- Debug level. 10\n",
    "#2nd Level- Information level.  20\n",
    "#3rd level- Warning level.  30\n",
    "#4th level- Error Level.   40\n",
    "#5th level- Critical Level.  50\n",
    "\n",
    "import logging\n",
    "#include exclude\n"
   ]
  },
  {
   "cell_type": "code",
   "execution_count": null,
   "metadata": {},
   "outputs": [],
   "source": []
  },
  {
   "cell_type": "code",
   "execution_count": 26,
   "metadata": {},
   "outputs": [],
   "source": [
    "logging.basicConfig(level=logging.DEBUG) #this if for configuring the log in\n",
    "\n",
    "\n",
    "def add(x,y):\n",
    "    return x+y\n",
    "\n",
    "def substract(x,y):\n",
    "    return x-y\n",
    "\n",
    "def multiply(x,y):\n",
    "    return x*y\n",
    "\n",
    "def divide(x,y):\n",
    "    return x//y\n",
    "\n",
    "\n",
    "n1=10\n",
    "n2=20\n",
    "\n",
    "sum=add(n1,n2)\n",
    "logging.debug(sum)\n",
    "diff=substract(n1,n2)\n",
    "logging.debug(diff)\n",
    "mul=multiply(n1,n2)\n",
    "logging.debug(mul)\n",
    "div=divide(n2,n1)\n",
    "logging.debug(div)"
   ]
  },
  {
   "cell_type": "code",
   "execution_count": null,
   "metadata": {},
   "outputs": [],
   "source": []
  },
  {
   "attachments": {},
   "cell_type": "markdown",
   "metadata": {},
   "source": []
  },
  {
   "attachments": {},
   "cell_type": "markdown",
   "metadata": {},
   "source": [
    "**`NameCheck`**"
   ]
  },
  {
   "cell_type": "code",
   "execution_count": 39,
   "metadata": {},
   "outputs": [],
   "source": [
    "import logging\n",
    "logging.basicConfig(level=logging.DEBUG)\n",
    "\n",
    "def namecheck(name):\n",
    "    if len(name)<2:\n",
    "        logging.debug('checking for name length')\n",
    "        return 'Invalid name'\n",
    "    elif name.isspace():\n",
    "        logging.debug('checking for name has space')\n",
    "        return 'Invalid name'\n",
    "    elif name.isalpha():\n",
    "        logging.debug('checking for name is alphabet')\n",
    "        return 'valid name'\n",
    "    elif name.replace(' ','').isalpha():\n",
    "        logging.debug('checking for full name')\n",
    "        return 'name is valid'\n",
    "    else:\n",
    "        logging.error('failed all checks')\n",
    "        return 'invalid name'"
   ]
  },
  {
   "cell_type": "code",
   "execution_count": 40,
   "metadata": {},
   "outputs": [
    {
     "name": "stdout",
     "output_type": "stream",
     "text": [
      "valid name\n"
     ]
    }
   ],
   "source": [
    "print(namecheck('Eshant'))"
   ]
  },
  {
   "cell_type": "code",
   "execution_count": 41,
   "metadata": {},
   "outputs": [
    {
     "name": "stdout",
     "output_type": "stream",
     "text": [
      "name is valid\n"
     ]
    }
   ],
   "source": [
    "print(namecheck('popat lal'))"
   ]
  },
  {
   "cell_type": "code",
   "execution_count": 44,
   "metadata": {},
   "outputs": [
    {
     "name": "stderr",
     "output_type": "stream",
     "text": [
      "ERROR:root:failed all checks\n"
     ]
    },
    {
     "name": "stdout",
     "output_type": "stream",
     "text": [
      "invalid name\n"
     ]
    }
   ],
   "source": [
    "print(namecheck('dev syupid 234'))"
   ]
  },
  {
   "cell_type": "code",
   "execution_count": null,
   "metadata": {},
   "outputs": [],
   "source": []
  },
  {
   "attachments": {},
   "cell_type": "markdown",
   "metadata": {},
   "source": [
    "**`Formatting`**"
   ]
  },
  {
   "cell_type": "code",
   "execution_count": 43,
   "metadata": {},
   "outputs": [],
   "source": [
    "import logging\n",
    "\n",
    "#type python logging library in google\n",
    "logging.basicConfig(level=logging.DEBUG,format='%(asctime)s - %(levelname)s - %(message)s')\n",
    "\n",
    "def namecheck(name):\n",
    "    if len(name)<2:\n",
    "        logging.debug('checking for name length')\n",
    "        return 'Invalid name'\n",
    "    elif name.isspace():\n",
    "        logging.debug('checking for name has space')\n",
    "        return 'Invalid name'\n",
    "    elif name.isalpha():\n",
    "        logging.debug('checking for name is alphabet')\n",
    "        return 'valid name'\n",
    "    elif name.replace(' ','').isalpha():\n",
    "        logging.debug('checking for full name')\n",
    "        return 'name is valid'\n",
    "    else:\n",
    "        logging.error('failed all checks')\n",
    "        return 'invalid name'"
   ]
  },
  {
   "cell_type": "code",
   "execution_count": null,
   "metadata": {},
   "outputs": [],
   "source": []
  },
  {
   "cell_type": "code",
   "execution_count": 58,
   "metadata": {},
   "outputs": [
    {
     "name": "stdout",
     "output_type": "stream",
     "text": [
      "68\n"
     ]
    }
   ],
   "source": [
    "def add(*args):\n",
    "    s=0\n",
    "    for a in args:\n",
    "        s+=a\n",
    "    return s\n",
    "print(add(23,45))"
   ]
  },
  {
   "cell_type": "code",
   "execution_count": 55,
   "metadata": {},
   "outputs": [
    {
     "name": "stdout",
     "output_type": "stream",
     "text": [
      "24\n",
      "30\n",
      "7\n"
     ]
    }
   ],
   "source": [
    "def multiply(*args):\n",
    "    result = 1\n",
    "    for num in args:\n",
    "        result *= num\n",
    "    return result\n",
    "\n",
    "print(multiply(2, 3, 4))  # Output: 24\n",
    "print(multiply(5, 6))     # Output: 30\n",
    "print(multiply(7))        # Output: 7"
   ]
  },
  {
   "attachments": {},
   "cell_type": "markdown",
   "metadata": {},
   "source": [
    "- We have different loggers and by default it is always root so we get the output as root always"
   ]
  },
  {
   "cell_type": "code",
   "execution_count": null,
   "metadata": {},
   "outputs": [],
   "source": []
  },
  {
   "cell_type": "code",
   "execution_count": null,
   "metadata": {},
   "outputs": [],
   "source": []
  }
 ],
 "metadata": {
  "kernelspec": {
   "display_name": "Python 3 (ipykernel)",
   "language": "python",
   "name": "python3"
  },
  "language_info": {
   "codemirror_mode": {
    "name": "ipython",
    "version": 3
   },
   "file_extension": ".py",
   "mimetype": "text/x-python",
   "name": "python",
   "nbconvert_exporter": "python",
   "pygments_lexer": "ipython3",
   "version": "3.9.13"
  }
 },
 "nbformat": 4,
 "nbformat_minor": 2
}
