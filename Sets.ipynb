{
 "cells": [
  {
   "cell_type": "markdown",
   "id": "dd50e0e4",
   "metadata": {},
   "source": [
    "# Some important points about sets"
   ]
  },
  {
   "cell_type": "markdown",
   "id": "be663c06",
   "metadata": {},
   "source": [
    "--> Distinct Elements"
   ]
  },
  {
   "cell_type": "markdown",
   "id": "d953fc48",
   "metadata": {},
   "source": [
    "--> No Indexing"
   ]
  },
  {
   "cell_type": "markdown",
   "id": "2ebd03a9",
   "metadata": {},
   "source": [
    "--> Unordered"
   ]
  },
  {
   "cell_type": "markdown",
   "id": "9f2b811d",
   "metadata": {},
   "source": [
    "--> Union,Intersection and Set Difference etc are fast"
   ]
  },
  {
   "cell_type": "markdown",
   "id": "7ff65164",
   "metadata": {},
   "source": [
    "--> Uses hahing internally"
   ]
  },
  {
   "cell_type": "code",
   "execution_count": null,
   "id": "633bf8fc",
   "metadata": {},
   "outputs": [],
   "source": []
  },
  {
   "cell_type": "markdown",
   "id": "2eefca35",
   "metadata": {},
   "source": [
    "# Lets see how sets are unordered"
   ]
  },
  {
   "cell_type": "markdown",
   "id": "3800e258",
   "metadata": {},
   "source": [
    "For sets we use {} brackets like dictionary"
   ]
  },
  {
   "cell_type": "code",
   "execution_count": 3,
   "id": "c91f6fb0",
   "metadata": {},
   "outputs": [
    {
     "name": "stdout",
     "output_type": "stream",
     "text": [
      "40\n",
      "10\n",
      "20\n",
      "30\n"
     ]
    }
   ],
   "source": [
    "b={10,20,30,40}\n",
    "for i in b:\n",
    "    print(i)"
   ]
  },
  {
   "cell_type": "markdown",
   "id": "f2126c48",
   "metadata": {},
   "source": [
    "Here we notice that the order is unpredictible"
   ]
  },
  {
   "cell_type": "code",
   "execution_count": null,
   "id": "a8d2ca16",
   "metadata": {},
   "outputs": [],
   "source": []
  },
  {
   "cell_type": "markdown",
   "id": "539ce2b4",
   "metadata": {},
   "source": [
    "# They will alwys be distinct"
   ]
  },
  {
   "cell_type": "code",
   "execution_count": 4,
   "id": "ce9f46ad",
   "metadata": {},
   "outputs": [
    {
     "name": "stdout",
     "output_type": "stream",
     "text": [
      "{10, 20}\n"
     ]
    }
   ],
   "source": [
    "a={10,20,10,10}\n",
    "print(a)"
   ]
  },
  {
   "cell_type": "code",
   "execution_count": null,
   "id": "bdd7091c",
   "metadata": {},
   "outputs": [],
   "source": []
  },
  {
   "cell_type": "markdown",
   "id": "463b7b3b",
   "metadata": {},
   "source": [
    "# How to create an empty set"
   ]
  },
  {
   "cell_type": "markdown",
   "id": "23fd5fc1",
   "metadata": {},
   "source": [
    "If we try to do a={} then this will create a empty dictionary instead of a set"
   ]
  },
  {
   "cell_type": "code",
   "execution_count": 5,
   "id": "35a3dcc6",
   "metadata": {},
   "outputs": [
    {
     "name": "stdout",
     "output_type": "stream",
     "text": [
      "<class 'set'>\n"
     ]
    }
   ],
   "source": [
    "#So we do the following\n",
    "a=set()\n",
    "print(type(a))"
   ]
  },
  {
   "cell_type": "code",
   "execution_count": null,
   "id": "4a5a0720",
   "metadata": {},
   "outputs": [],
   "source": []
  },
  {
   "cell_type": "markdown",
   "id": "c3576310",
   "metadata": {},
   "source": [
    "# Add and Update function"
   ]
  },
  {
   "cell_type": "code",
   "execution_count": 6,
   "id": "cc15b391",
   "metadata": {},
   "outputs": [],
   "source": [
    "s={10,20}\n",
    "s.add(30)"
   ]
  },
  {
   "cell_type": "code",
   "execution_count": 7,
   "id": "1615638b",
   "metadata": {},
   "outputs": [
    {
     "name": "stdout",
     "output_type": "stream",
     "text": [
      "{10, 20, 30}\n"
     ]
    }
   ],
   "source": [
    "print(s)"
   ]
  },
  {
   "cell_type": "markdown",
   "id": "a524774d",
   "metadata": {},
   "source": [
    "With update we can add from other different collection as well"
   ]
  },
  {
   "cell_type": "code",
   "execution_count": 8,
   "id": "cb8f95c2",
   "metadata": {},
   "outputs": [],
   "source": [
    "s.update([50,60])  #Here we are using List"
   ]
  },
  {
   "cell_type": "code",
   "execution_count": 9,
   "id": "04259cdb",
   "metadata": {},
   "outputs": [
    {
     "name": "stdout",
     "output_type": "stream",
     "text": [
      "{10, 50, 20, 60, 30}\n"
     ]
    }
   ],
   "source": [
    "print(s)"
   ]
  },
  {
   "cell_type": "markdown",
   "id": "2d97ae15",
   "metadata": {},
   "source": [
    "However the order will still remain unpredictible"
   ]
  },
  {
   "cell_type": "code",
   "execution_count": null,
   "id": "612c0c2d",
   "metadata": {},
   "outputs": [],
   "source": []
  },
  {
   "cell_type": "markdown",
   "id": "795dadc6",
   "metadata": {},
   "source": [
    "# Discard and Remove function"
   ]
  },
  {
   "cell_type": "code",
   "execution_count": 10,
   "id": "ebbcd318",
   "metadata": {},
   "outputs": [],
   "source": [
    "s.discard(60)"
   ]
  },
  {
   "cell_type": "code",
   "execution_count": 11,
   "id": "58ed5af7",
   "metadata": {},
   "outputs": [
    {
     "data": {
      "text/plain": [
       "{10, 20, 30, 50}"
      ]
     },
     "execution_count": 11,
     "metadata": {},
     "output_type": "execute_result"
    }
   ],
   "source": [
    "s"
   ]
  },
  {
   "cell_type": "code",
   "execution_count": 12,
   "id": "3fd5c83e",
   "metadata": {},
   "outputs": [],
   "source": [
    "s.remove(50)"
   ]
  },
  {
   "cell_type": "code",
   "execution_count": 13,
   "id": "8afe135c",
   "metadata": {},
   "outputs": [
    {
     "data": {
      "text/plain": [
       "{10, 20, 30}"
      ]
     },
     "execution_count": 13,
     "metadata": {},
     "output_type": "execute_result"
    }
   ],
   "source": [
    "s"
   ]
  },
  {
   "cell_type": "markdown",
   "id": "fe9612a0",
   "metadata": {},
   "source": [
    "Difference between discard and remove is if we pass an element which is not present in the set and try to use discard function it will not raise an error and basically do nothing but if we use remove function it will raise an error"
   ]
  },
  {
   "cell_type": "code",
   "execution_count": null,
   "id": "cf065a62",
   "metadata": {},
   "outputs": [],
   "source": []
  },
  {
   "cell_type": "markdown",
   "id": "2bd7cbaf",
   "metadata": {},
   "source": [
    "# Del and Clear"
   ]
  },
  {
   "cell_type": "code",
   "execution_count": 14,
   "id": "0d4fec40",
   "metadata": {},
   "outputs": [],
   "source": [
    "s.clear()"
   ]
  },
  {
   "cell_type": "code",
   "execution_count": 15,
   "id": "4d6d0521",
   "metadata": {},
   "outputs": [
    {
     "data": {
      "text/plain": [
       "set()"
      ]
     },
     "execution_count": 15,
     "metadata": {},
     "output_type": "execute_result"
    }
   ],
   "source": [
    "s"
   ]
  },
  {
   "cell_type": "markdown",
   "id": "f256768d",
   "metadata": {},
   "source": [
    "This represents an empty set"
   ]
  },
  {
   "cell_type": "code",
   "execution_count": 16,
   "id": "f549ec09",
   "metadata": {},
   "outputs": [
    {
     "name": "stdout",
     "output_type": "stream",
     "text": [
      "{10}\n"
     ]
    }
   ],
   "source": [
    "s.add(10)\n",
    "print(s)"
   ]
  },
  {
   "cell_type": "code",
   "execution_count": 17,
   "id": "5a26c3bc",
   "metadata": {},
   "outputs": [],
   "source": [
    "del s"
   ]
  },
  {
   "cell_type": "code",
   "execution_count": 18,
   "id": "01c4a56b",
   "metadata": {},
   "outputs": [
    {
     "ename": "NameError",
     "evalue": "name 's' is not defined",
     "output_type": "error",
     "traceback": [
      "\u001b[1;31m---------------------------------------------------------------------------\u001b[0m",
      "\u001b[1;31mNameError\u001b[0m                                 Traceback (most recent call last)",
      "\u001b[1;32m<ipython-input-18-ded5ba42480f>\u001b[0m in \u001b[0;36m<module>\u001b[1;34m\u001b[0m\n\u001b[1;32m----> 1\u001b[1;33m \u001b[0ms\u001b[0m\u001b[1;33m\u001b[0m\u001b[1;33m\u001b[0m\u001b[0m\n\u001b[0m",
      "\u001b[1;31mNameError\u001b[0m: name 's' is not defined"
     ]
    }
   ],
   "source": [
    "s"
   ]
  },
  {
   "cell_type": "markdown",
   "id": "e7aa01e7",
   "metadata": {},
   "source": [
    "This is bcoz clear() empties the set whereas del deletes the object itself"
   ]
  },
  {
   "cell_type": "code",
   "execution_count": null,
   "id": "0946a0eb",
   "metadata": {},
   "outputs": [],
   "source": []
  },
  {
   "cell_type": "markdown",
   "id": "4a4976bb",
   "metadata": {},
   "source": [
    "# Length Function"
   ]
  },
  {
   "cell_type": "code",
   "execution_count": 19,
   "id": "361e8437",
   "metadata": {},
   "outputs": [],
   "source": [
    "s={10,20,30}"
   ]
  },
  {
   "cell_type": "code",
   "execution_count": 20,
   "id": "3661bbaf",
   "metadata": {},
   "outputs": [
    {
     "data": {
      "text/plain": [
       "3"
      ]
     },
     "execution_count": 20,
     "metadata": {},
     "output_type": "execute_result"
    }
   ],
   "source": [
    "len(s)"
   ]
  },
  {
   "cell_type": "code",
   "execution_count": null,
   "id": "d9de3eeb",
   "metadata": {},
   "outputs": [],
   "source": []
  },
  {
   "cell_type": "markdown",
   "id": "3fc0312b",
   "metadata": {},
   "source": [
    "# Union, Intersection,Difference and Symmetric Difference in sets"
   ]
  },
  {
   "cell_type": "markdown",
   "id": "0e6f158e",
   "metadata": {},
   "source": [
    "These are used with sets instead of lists bcoz sets uses the concept of internal hashing so searching is very fast"
   ]
  },
  {
   "cell_type": "code",
   "execution_count": 21,
   "id": "b79c2366",
   "metadata": {},
   "outputs": [],
   "source": [
    "s1={2,4,6,8}#multiples of 2\n",
    "s2={3,6,9}#multiples of 3"
   ]
  },
  {
   "cell_type": "markdown",
   "id": "23eb090d",
   "metadata": {},
   "source": [
    "Union of s1 and s2 "
   ]
  },
  {
   "cell_type": "code",
   "execution_count": 22,
   "id": "a9373ab3",
   "metadata": {},
   "outputs": [
    {
     "name": "stdout",
     "output_type": "stream",
     "text": [
      "{2, 3, 4, 6, 8, 9}\n"
     ]
    }
   ],
   "source": [
    "print(s1|s2)   "
   ]
  },
  {
   "cell_type": "markdown",
   "id": "4cc5dc74",
   "metadata": {},
   "source": [
    "Intersection of s1 and s2"
   ]
  },
  {
   "cell_type": "code",
   "execution_count": 23,
   "id": "95102101",
   "metadata": {},
   "outputs": [
    {
     "name": "stdout",
     "output_type": "stream",
     "text": [
      "{6}\n"
     ]
    }
   ],
   "source": [
    "print(s1&s2)"
   ]
  },
  {
   "cell_type": "markdown",
   "id": "046fec1d",
   "metadata": {},
   "source": [
    "Difference s1-s2 -->Elements present in s1 but not in s2"
   ]
  },
  {
   "cell_type": "code",
   "execution_count": 24,
   "id": "1a96b8e3",
   "metadata": {},
   "outputs": [
    {
     "name": "stdout",
     "output_type": "stream",
     "text": [
      "{8, 2, 4}\n"
     ]
    }
   ],
   "source": [
    "print(s1-s2)"
   ]
  },
  {
   "cell_type": "markdown",
   "id": "7940376c",
   "metadata": {},
   "source": [
    "Symmetric_Difference -->Elements present in s1 and s2 but not common to s1 and s2"
   ]
  },
  {
   "cell_type": "code",
   "execution_count": 25,
   "id": "dec65236",
   "metadata": {},
   "outputs": [
    {
     "name": "stdout",
     "output_type": "stream",
     "text": [
      "{2, 3, 4, 8, 9}\n"
     ]
    }
   ],
   "source": [
    "print(s1^s2)"
   ]
  },
  {
   "cell_type": "code",
   "execution_count": null,
   "id": "2a3f575b",
   "metadata": {},
   "outputs": [],
   "source": []
  },
  {
   "cell_type": "markdown",
   "id": "b5ff6a66",
   "metadata": {},
   "source": [
    "# Isdisjoint functionn will give a bool value true if there are no common elements present between s1 and s2"
   ]
  },
  {
   "cell_type": "code",
   "execution_count": 26,
   "id": "40614f3f",
   "metadata": {},
   "outputs": [
    {
     "name": "stdout",
     "output_type": "stream",
     "text": [
      "False\n"
     ]
    }
   ],
   "source": [
    "s1={2,4,6,8}#multiples of 2\n",
    "s2={3,6,9}#multiples of 3\n",
    "print(s1.isdisjoint(s2))"
   ]
  },
  {
   "cell_type": "code",
   "execution_count": null,
   "id": "ae0d7b4c",
   "metadata": {},
   "outputs": [],
   "source": []
  },
  {
   "cell_type": "markdown",
   "id": "dfdfdb21",
   "metadata": {},
   "source": [
    "                                                THank You!!!!!!!!!!!!!"
   ]
  },
  {
   "cell_type": "code",
   "execution_count": null,
   "id": "bf5916a4",
   "metadata": {},
   "outputs": [],
   "source": []
  }
 ],
 "metadata": {
  "kernelspec": {
   "display_name": "Python 3",
   "language": "python",
   "name": "python3"
  },
  "language_info": {
   "codemirror_mode": {
    "name": "ipython",
    "version": 3
   },
   "file_extension": ".py",
   "mimetype": "text/x-python",
   "name": "python",
   "nbconvert_exporter": "python",
   "pygments_lexer": "ipython3",
   "version": "3.8.8"
  }
 },
 "nbformat": 4,
 "nbformat_minor": 5
}
