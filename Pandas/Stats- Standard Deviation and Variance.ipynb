{
 "cells": [
  {
   "cell_type": "markdown",
   "id": "b1f66eff",
   "metadata": {},
   "source": [
    "# <div class='alert alert-warning'> Standard Deviation and Variance</div>"
   ]
  },
  {
   "cell_type": "code",
   "execution_count": 1,
   "id": "07dcf588",
   "metadata": {},
   "outputs": [],
   "source": [
    "import numpy as np"
   ]
  },
  {
   "cell_type": "code",
   "execution_count": null,
   "id": "b67f9f76",
   "metadata": {},
   "outputs": [],
   "source": []
  },
  {
   "cell_type": "markdown",
   "id": "9444f98b",
   "metadata": {},
   "source": [
    "### <font color='green'> Standard Deviation </font>"
   ]
  },
  {
   "cell_type": "code",
   "execution_count": 6,
   "id": "9a0e0366",
   "metadata": {},
   "outputs": [],
   "source": [
    "values=np.array([7,5,9,10,4,14])"
   ]
  },
  {
   "cell_type": "code",
   "execution_count": 7,
   "id": "39357659",
   "metadata": {},
   "outputs": [],
   "source": [
    "def standard_deviation(arr):\n",
    "    mean=arr.mean()\n",
    "    final_val=0\n",
    "    for i in arr:\n",
    "        val=(i-mean)**2\n",
    "        final_val+=val\n",
    "    return (final_val/len(arr))**0.5"
   ]
  },
  {
   "cell_type": "code",
   "execution_count": 10,
   "id": "39742669",
   "metadata": {},
   "outputs": [
    {
     "data": {
      "text/plain": [
       "3.337497399083464"
      ]
     },
     "execution_count": 10,
     "metadata": {},
     "output_type": "execute_result"
    }
   ],
   "source": [
    "sd=standard_deviation(values)\n",
    "sd"
   ]
  },
  {
   "cell_type": "code",
   "execution_count": null,
   "id": "ec540f88",
   "metadata": {},
   "outputs": [],
   "source": []
  },
  {
   "cell_type": "markdown",
   "id": "432676ab",
   "metadata": {},
   "source": [
    "### <font color='green'>Variance</font>"
   ]
  },
  {
   "cell_type": "code",
   "execution_count": 11,
   "id": "4d18b031",
   "metadata": {},
   "outputs": [
    {
     "data": {
      "text/plain": [
       "11.138888888888888"
      ]
     },
     "execution_count": 11,
     "metadata": {},
     "output_type": "execute_result"
    }
   ],
   "source": [
    "sd**2"
   ]
  },
  {
   "cell_type": "code",
   "execution_count": null,
   "id": "62ded46a",
   "metadata": {},
   "outputs": [],
   "source": []
  }
 ],
 "metadata": {
  "kernelspec": {
   "display_name": "Python 3 (ipykernel)",
   "language": "python",
   "name": "python3"
  },
  "language_info": {
   "codemirror_mode": {
    "name": "ipython",
    "version": 3
   },
   "file_extension": ".py",
   "mimetype": "text/x-python",
   "name": "python",
   "nbconvert_exporter": "python",
   "pygments_lexer": "ipython3",
   "version": "3.9.12"
  }
 },
 "nbformat": 4,
 "nbformat_minor": 5
}
