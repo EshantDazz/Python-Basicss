{
 "cells": [
  {
   "cell_type": "markdown",
   "id": "5ed2dea9",
   "metadata": {},
   "source": [
    "# <div class='alert alert-warning'> Mean Median Mode </div>"
   ]
  },
  {
   "cell_type": "code",
   "execution_count": null,
   "id": "6bc59170",
   "metadata": {},
   "outputs": [],
   "source": []
  },
  {
   "cell_type": "code",
   "execution_count": 1,
   "id": "e45baf4d",
   "metadata": {},
   "outputs": [],
   "source": [
    "import numpy as np"
   ]
  },
  {
   "cell_type": "code",
   "execution_count": null,
   "id": "0ca764e5",
   "metadata": {},
   "outputs": [],
   "source": []
  },
  {
   "cell_type": "markdown",
   "id": "bd543cd1",
   "metadata": {},
   "source": [
    "### <font color='green'>Mean</font>"
   ]
  },
  {
   "cell_type": "markdown",
   "id": "f2bfbbf9",
   "metadata": {},
   "source": [
    "#### 1st Way"
   ]
  },
  {
   "cell_type": "code",
   "execution_count": 3,
   "id": "3b8af7f1",
   "metadata": {},
   "outputs": [
    {
     "name": "stdout",
     "output_type": "stream",
     "text": [
      "4.333333333333333\n"
     ]
    }
   ],
   "source": [
    "arr=np.array([1,2,3,4,7,9])\n",
    "mean=sum(arr)/len(arr)\n",
    "print(mean)"
   ]
  },
  {
   "cell_type": "markdown",
   "id": "9c17891e",
   "metadata": {},
   "source": [
    "#### 2nd Way"
   ]
  },
  {
   "cell_type": "code",
   "execution_count": 4,
   "id": "7e373b54",
   "metadata": {},
   "outputs": [
    {
     "data": {
      "text/plain": [
       "4.333333333333333"
      ]
     },
     "execution_count": 4,
     "metadata": {},
     "output_type": "execute_result"
    }
   ],
   "source": [
    "np.mean(arr)"
   ]
  },
  {
   "cell_type": "code",
   "execution_count": null,
   "id": "44782405",
   "metadata": {},
   "outputs": [],
   "source": []
  },
  {
   "cell_type": "markdown",
   "id": "ccc822bf",
   "metadata": {},
   "source": [
    "#### Weighted Average = ( w1 × X1 + w2 × X2 + w3 × X3 + w4 × X4 +…..+ wn × Xn)/(w1 + w2 + w3 + w4 +…….+ wn)\n",
    "\n"
   ]
  },
  {
   "cell_type": "code",
   "execution_count": 5,
   "id": "fecec595",
   "metadata": {},
   "outputs": [
    {
     "data": {
      "text/plain": [
       "5.666666666666667"
      ]
     },
     "execution_count": 5,
     "metadata": {},
     "output_type": "execute_result"
    }
   ],
   "source": [
    "arr=np.array([1,2,3,4,7,9])\n",
    "weight=np.array([1,2,3,4,5,6])\n",
    "np.average(arr,weights=weight)"
   ]
  },
  {
   "cell_type": "code",
   "execution_count": null,
   "id": "8cec2add",
   "metadata": {},
   "outputs": [],
   "source": [
    " "
   ]
  },
  {
   "cell_type": "code",
   "execution_count": null,
   "id": "f97d1bb3",
   "metadata": {},
   "outputs": [],
   "source": []
  },
  {
   "cell_type": "markdown",
   "id": "26a91a23",
   "metadata": {},
   "source": [
    "#### If we have a 2D aray then what do we need to do?"
   ]
  },
  {
   "cell_type": "code",
   "execution_count": 7,
   "id": "d00b7636",
   "metadata": {},
   "outputs": [
    {
     "data": {
      "text/plain": [
       "3.5"
      ]
     },
     "execution_count": 7,
     "metadata": {},
     "output_type": "execute_result"
    }
   ],
   "source": [
    "arr=np.array([[1,2,3],[4,5,6]])\n",
    "np.mean(arr)"
   ]
  },
  {
   "cell_type": "code",
   "execution_count": 8,
   "id": "1b2439d6",
   "metadata": {},
   "outputs": [
    {
     "data": {
      "text/plain": [
       "array([2., 5.])"
      ]
     },
     "execution_count": 8,
     "metadata": {},
     "output_type": "execute_result"
    }
   ],
   "source": [
    "'''\n",
    "If we want to find the mean for the rows specifically we need to give axis=1\n",
    "'''\n",
    "np.mean(arr,axis=1)"
   ]
  },
  {
   "cell_type": "code",
   "execution_count": null,
   "id": "8c05d94b",
   "metadata": {},
   "outputs": [],
   "source": []
  },
  {
   "cell_type": "markdown",
   "id": "9af2387d",
   "metadata": {},
   "source": [
    "### <font color='green'> Median </font>"
   ]
  },
  {
   "cell_type": "code",
   "execution_count": 9,
   "id": "dfd33346",
   "metadata": {},
   "outputs": [
    {
     "data": {
      "text/plain": [
       "3.5"
      ]
     },
     "execution_count": 9,
     "metadata": {},
     "output_type": "execute_result"
    }
   ],
   "source": [
    "arr=np.array([1,2,3,4,7,9])\n",
    "np.median(arr)"
   ]
  },
  {
   "cell_type": "code",
   "execution_count": null,
   "id": "0020c307",
   "metadata": {},
   "outputs": [],
   "source": []
  },
  {
   "cell_type": "markdown",
   "id": "2fe6f9d8",
   "metadata": {},
   "source": [
    "### <font color='green'> Mode </font>"
   ]
  },
  {
   "cell_type": "markdown",
   "id": "dcf0443a",
   "metadata": {},
   "source": [
    "However we don't have any **`mode`** function in numpy"
   ]
  },
  {
   "cell_type": "code",
   "execution_count": 13,
   "id": "053dbc1d",
   "metadata": {},
   "outputs": [],
   "source": [
    "arr=np.array([1,2,1,1,3,2,2,2,2,2,6,7,8,8,8,10,4,7,9])\n",
    "from collections import Counter\n",
    "count=Counter(arr)"
   ]
  },
  {
   "cell_type": "code",
   "execution_count": 14,
   "id": "db1de429",
   "metadata": {},
   "outputs": [
    {
     "data": {
      "text/plain": [
       "Counter({1: 3, 2: 6, 3: 1, 6: 1, 7: 2, 8: 3, 10: 1, 4: 1, 9: 1})"
      ]
     },
     "execution_count": 14,
     "metadata": {},
     "output_type": "execute_result"
    }
   ],
   "source": [
    "count"
   ]
  },
  {
   "cell_type": "code",
   "execution_count": 15,
   "id": "8ef48db7",
   "metadata": {},
   "outputs": [
    {
     "data": {
      "text/plain": [
       "[(2, 6)]"
      ]
     },
     "execution_count": 15,
     "metadata": {},
     "output_type": "execute_result"
    }
   ],
   "source": [
    "count.most_common(1) #1 here means the first max one"
   ]
  },
  {
   "cell_type": "markdown",
   "id": "ae4d3fd6",
   "metadata": {},
   "source": [
    "This here means 2 is occuring 6 times which is the maximum"
   ]
  },
  {
   "cell_type": "code",
   "execution_count": null,
   "id": "2f4fd6d8",
   "metadata": {},
   "outputs": [],
   "source": []
  }
 ],
 "metadata": {
  "kernelspec": {
   "display_name": "Python 3 (ipykernel)",
   "language": "python",
   "name": "python3"
  },
  "language_info": {
   "codemirror_mode": {
    "name": "ipython",
    "version": 3
   },
   "file_extension": ".py",
   "mimetype": "text/x-python",
   "name": "python",
   "nbconvert_exporter": "python",
   "pygments_lexer": "ipython3",
   "version": "3.9.12"
  }
 },
 "nbformat": 4,
 "nbformat_minor": 5
}
