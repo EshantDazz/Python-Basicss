{
 "cells": [
  {
   "cell_type": "code",
   "execution_count": 2,
   "id": "04471b1a",
   "metadata": {},
   "outputs": [],
   "source": [
    "import numpy as np"
   ]
  },
  {
   "cell_type": "markdown",
   "id": "76341ab0",
   "metadata": {},
   "source": [
    "## <font color='blue'> Arrange</font>"
   ]
  },
  {
   "cell_type": "code",
   "execution_count": 3,
   "id": "d7fc7365",
   "metadata": {},
   "outputs": [],
   "source": [
    "a=np.arange(1,10)"
   ]
  },
  {
   "cell_type": "code",
   "execution_count": 4,
   "id": "31ff7282",
   "metadata": {},
   "outputs": [
    {
     "data": {
      "text/plain": [
       "array([1, 2, 3, 4, 5, 6, 7, 8, 9])"
      ]
     },
     "execution_count": 4,
     "metadata": {},
     "output_type": "execute_result"
    }
   ],
   "source": [
    "a"
   ]
  },
  {
   "cell_type": "markdown",
   "id": "6e7f779c",
   "metadata": {},
   "source": [
    "## <font color='blue'> Multidimension array</font>"
   ]
  },
  {
   "cell_type": "code",
   "execution_count": 6,
   "id": "c29b8327",
   "metadata": {},
   "outputs": [
    {
     "name": "stdout",
     "output_type": "stream",
     "text": [
      "[[ 1  2  3]\n",
      " [ 4  5  6]\n",
      " [64 34 65]]\n"
     ]
    }
   ],
   "source": [
    "a=np.array([[1,2,3],[4,5,6],[64,34,65]])\n",
    "print(a)"
   ]
  },
  {
   "cell_type": "code",
   "execution_count": 8,
   "id": "303663be",
   "metadata": {},
   "outputs": [
    {
     "data": {
      "text/plain": [
       "9"
      ]
     },
     "execution_count": 8,
     "metadata": {},
     "output_type": "execute_result"
    }
   ],
   "source": [
    "a.size"
   ]
  },
  {
   "cell_type": "code",
   "execution_count": 9,
   "id": "b9c88d88",
   "metadata": {},
   "outputs": [
    {
     "data": {
      "text/plain": [
       "(3, 3)"
      ]
     },
     "execution_count": 9,
     "metadata": {},
     "output_type": "execute_result"
    }
   ],
   "source": [
    "a.shape"
   ]
  },
  {
   "cell_type": "code",
   "execution_count": 10,
   "id": "14e2ef92",
   "metadata": {},
   "outputs": [
    {
     "data": {
      "text/plain": [
       "dtype('int64')"
      ]
     },
     "execution_count": 10,
     "metadata": {},
     "output_type": "execute_result"
    }
   ],
   "source": [
    "a.dtype"
   ]
  },
  {
   "cell_type": "code",
   "execution_count": 11,
   "id": "5fc775ed",
   "metadata": {},
   "outputs": [
    {
     "data": {
      "text/plain": [
       "2"
      ]
     },
     "execution_count": 11,
     "metadata": {},
     "output_type": "execute_result"
    }
   ],
   "source": [
    "a.ndim"
   ]
  },
  {
   "cell_type": "code",
   "execution_count": 12,
   "id": "9dece21f",
   "metadata": {},
   "outputs": [
    {
     "data": {
      "text/plain": [
       "numpy.ndarray"
      ]
     },
     "execution_count": 12,
     "metadata": {},
     "output_type": "execute_result"
    }
   ],
   "source": [
    "type(a)"
   ]
  },
  {
   "cell_type": "code",
   "execution_count": null,
   "id": "8208854e",
   "metadata": {},
   "outputs": [],
   "source": []
  },
  {
   "cell_type": "markdown",
   "id": "cd7dc229",
   "metadata": {},
   "source": [
    "## Shape function"
   ]
  },
  {
   "cell_type": "markdown",
   "id": "2f7c9d50",
   "metadata": {},
   "source": [
    "## Zeros Function"
   ]
  },
  {
   "cell_type": "code",
   "execution_count": 14,
   "id": "423a73ee",
   "metadata": {},
   "outputs": [
    {
     "data": {
      "text/plain": [
       "array([[0., 0., 0.],\n",
       "       [0., 0., 0.],\n",
       "       [0., 0., 0.]])"
      ]
     },
     "execution_count": 14,
     "metadata": {},
     "output_type": "execute_result"
    }
   ],
   "source": [
    "np.zeros((3,3))"
   ]
  },
  {
   "cell_type": "markdown",
   "id": "c0f8007c",
   "metadata": {},
   "source": [
    "# Ones Function"
   ]
  },
  {
   "cell_type": "code",
   "execution_count": 9,
   "id": "7e124f53",
   "metadata": {},
   "outputs": [
    {
     "data": {
      "text/plain": [
       "array([[1, 1, 1, 1],\n",
       "       [1, 1, 1, 1],\n",
       "       [1, 1, 1, 1]], dtype=int32)"
      ]
     },
     "execution_count": 9,
     "metadata": {},
     "output_type": "execute_result"
    }
   ],
   "source": [
    "np.ones((3,4),dtype='int32')"
   ]
  },
  {
   "cell_type": "code",
   "execution_count": null,
   "id": "f2cd0d1b",
   "metadata": {},
   "outputs": [],
   "source": []
  },
  {
   "cell_type": "markdown",
   "id": "03cba309",
   "metadata": {},
   "source": [
    "## <font color='blue'> Eye Function</font>"
   ]
  },
  {
   "cell_type": "code",
   "execution_count": 10,
   "id": "d7b47b8f",
   "metadata": {},
   "outputs": [
    {
     "data": {
      "text/plain": [
       "array([[1., 0., 0., 0., 0.],\n",
       "       [0., 1., 0., 0., 0.],\n",
       "       [0., 0., 1., 0., 0.],\n",
       "       [0., 0., 0., 1., 0.],\n",
       "       [0., 0., 0., 0., 1.]])"
      ]
     },
     "execution_count": 10,
     "metadata": {},
     "output_type": "execute_result"
    }
   ],
   "source": [
    "    np.eye(5)"
   ]
  },
  {
   "cell_type": "markdown",
   "id": "a345505f",
   "metadata": {},
   "source": [
    "# Reshape function - will not alter the original data"
   ]
  },
  {
   "cell_type": "code",
   "execution_count": 19,
   "id": "09714396",
   "metadata": {},
   "outputs": [
    {
     "data": {
      "text/plain": [
       "array([[ 7,  5, 11,  8],\n",
       "       [ 3,  1, 14, 10],\n",
       "       [ 2, 13,  8,  7]])"
      ]
     },
     "execution_count": 19,
     "metadata": {},
     "output_type": "execute_result"
    }
   ],
   "source": [
    "a=np.random.randint(1,15,(3,4))\n",
    "a"
   ]
  },
  {
   "cell_type": "code",
   "execution_count": 20,
   "id": "33f72ad8",
   "metadata": {},
   "outputs": [
    {
     "data": {
      "text/plain": [
       "array([[ 7,  5],\n",
       "       [11,  8],\n",
       "       [ 3,  1],\n",
       "       [14, 10],\n",
       "       [ 2, 13],\n",
       "       [ 8,  7]])"
      ]
     },
     "execution_count": 20,
     "metadata": {},
     "output_type": "execute_result"
    }
   ],
   "source": [
    "a.reshape(6,2)"
   ]
  },
  {
   "cell_type": "code",
   "execution_count": 21,
   "id": "eef67387",
   "metadata": {},
   "outputs": [
    {
     "data": {
      "text/plain": [
       "array([[ 7,  5, 11,  8],\n",
       "       [ 3,  1, 14, 10],\n",
       "       [ 2, 13,  8,  7]])"
      ]
     },
     "execution_count": 21,
     "metadata": {},
     "output_type": "execute_result"
    }
   ],
   "source": [
    "a"
   ]
  },
  {
   "cell_type": "markdown",
   "id": "fcebd037",
   "metadata": {},
   "source": [
    "## Resize Function - will change the original data"
   ]
  },
  {
   "cell_type": "code",
   "execution_count": 23,
   "id": "c11be9de",
   "metadata": {},
   "outputs": [],
   "source": [
    "a.resize(2,6)"
   ]
  },
  {
   "cell_type": "code",
   "execution_count": 24,
   "id": "abba80d9",
   "metadata": {},
   "outputs": [
    {
     "data": {
      "text/plain": [
       "array([[ 7,  5, 11,  8,  3,  1],\n",
       "       [14, 10,  2, 13,  8,  7]])"
      ]
     },
     "execution_count": 24,
     "metadata": {},
     "output_type": "execute_result"
    }
   ],
   "source": [
    "a"
   ]
  },
  {
   "cell_type": "code",
   "execution_count": null,
   "id": "8fb491ac",
   "metadata": {},
   "outputs": [],
   "source": []
  },
  {
   "cell_type": "markdown",
   "id": "e561cc03",
   "metadata": {},
   "source": [
    "## Linspace Function"
   ]
  },
  {
   "cell_type": "code",
   "execution_count": 16,
   "id": "da6e76a5",
   "metadata": {},
   "outputs": [
    {
     "data": {
      "text/plain": [
       "array([1.  , 2.75, 4.5 , 6.25, 8.  ])"
      ]
     },
     "execution_count": 16,
     "metadata": {},
     "output_type": "execute_result"
    }
   ],
   "source": [
    "np.linspace(1,8,5)"
   ]
  },
  {
   "cell_type": "markdown",
   "id": "62131ed1",
   "metadata": {},
   "source": [
    "## Random function"
   ]
  },
  {
   "cell_type": "code",
   "execution_count": 17,
   "id": "f40fb2ea",
   "metadata": {},
   "outputs": [
    {
     "data": {
      "text/plain": [
       "array([[0.07630829, 0.77991879, 0.43840923, 0.72346518],\n",
       "       [0.97798951, 0.53849587, 0.50112046, 0.07205113],\n",
       "       [0.26843898, 0.4998825 , 0.67923   , 0.80373904]])"
      ]
     },
     "execution_count": 17,
     "metadata": {},
     "output_type": "execute_result"
    }
   ],
   "source": [
    "np.random.seed(7)\n",
    "np.random.rand(3,4)    #between 0 and 1"
   ]
  },
  {
   "cell_type": "code",
   "execution_count": null,
   "id": "158f965f",
   "metadata": {},
   "outputs": [],
   "source": []
  },
  {
   "cell_type": "code",
   "execution_count": 19,
   "id": "3f0ec746",
   "metadata": {},
   "outputs": [
    {
     "data": {
      "text/plain": [
       "array([[-0.38713994,  2.02907222, -0.04538603, -1.4506787 ],\n",
       "       [-0.40522786, -2.2883151 ,  1.04939655, -0.41647432],\n",
       "       [-0.74255353,  1.07247013, -1.65107559,  0.53542936]])"
      ]
     },
     "execution_count": 19,
     "metadata": {},
     "output_type": "execute_result"
    }
   ],
   "source": [
    "np.random.randn(3,4)  #return a sample from the \"standard normal distribution\""
   ]
  },
  {
   "cell_type": "code",
   "execution_count": null,
   "id": "5c03d1d9",
   "metadata": {},
   "outputs": [],
   "source": []
  },
  {
   "cell_type": "code",
   "execution_count": 21,
   "id": "3e323368",
   "metadata": {},
   "outputs": [],
   "source": [
    "a=np.random.randint(4,20,10)  #10 NUMBERS  between 4 and 20"
   ]
  },
  {
   "cell_type": "code",
   "execution_count": 22,
   "id": "1f6dffb9",
   "metadata": {},
   "outputs": [
    {
     "data": {
      "text/plain": [
       "array([[ 5, 15],\n",
       "       [18, 13],\n",
       "       [ 9, 13],\n",
       "       [17,  5],\n",
       "       [19, 19]])"
      ]
     },
     "execution_count": 22,
     "metadata": {},
     "output_type": "execute_result"
    }
   ],
   "source": [
    "a.reshape(5,2)"
   ]
  },
  {
   "cell_type": "code",
   "execution_count": 24,
   "id": "dff877b9",
   "metadata": {},
   "outputs": [
    {
     "data": {
      "text/plain": [
       "array([[ 5, 14,  6,  7, 14],\n",
       "       [13,  5,  2,  6, 13],\n",
       "       [10, 12, 12,  8, 13]])"
      ]
     },
     "execution_count": 24,
     "metadata": {},
     "output_type": "execute_result"
    }
   ],
   "source": [
    "np.random.randint(2,15,(3,5))   #new thing"
   ]
  },
  {
   "cell_type": "code",
   "execution_count": null,
   "id": "8c20e6f9",
   "metadata": {},
   "outputs": [],
   "source": []
  },
  {
   "cell_type": "markdown",
   "id": "9e015f25",
   "metadata": {},
   "source": [
    "## Flatten"
   ]
  },
  {
   "cell_type": "code",
   "execution_count": 26,
   "id": "ef9d30e6",
   "metadata": {},
   "outputs": [],
   "source": [
    "a=np.random.random((4,7))"
   ]
  },
  {
   "cell_type": "code",
   "execution_count": 27,
   "id": "c37b7a78",
   "metadata": {},
   "outputs": [
    {
     "data": {
      "text/plain": [
       "array([[0.13208955, 0.53792259, 0.26175256, 0.51247644, 0.02563616,\n",
       "        0.67089905, 0.5840681 ],\n",
       "       [0.89010526, 0.86204263, 0.87006716, 0.99404578, 0.20797456,\n",
       "        0.81713491, 0.1720685 ],\n",
       "       [0.4047368 , 0.10383201, 0.98485235, 0.86057475, 0.10498902,\n",
       "        0.71560604, 0.80461389],\n",
       "       [0.92424938, 0.03524227, 0.23588737, 0.14667745, 0.84160585,\n",
       "        0.80671456, 0.83509319]])"
      ]
     },
     "execution_count": 27,
     "metadata": {},
     "output_type": "execute_result"
    }
   ],
   "source": [
    "a"
   ]
  },
  {
   "cell_type": "code",
   "execution_count": 30,
   "id": "81d0f263",
   "metadata": {},
   "outputs": [],
   "source": [
    "a=a.flatten()"
   ]
  },
  {
   "cell_type": "code",
   "execution_count": 31,
   "id": "e805898d",
   "metadata": {},
   "outputs": [
    {
     "data": {
      "text/plain": [
       "array([0.13208955, 0.53792259, 0.26175256, 0.51247644, 0.02563616,\n",
       "       0.67089905, 0.5840681 , 0.89010526, 0.86204263, 0.87006716,\n",
       "       0.99404578, 0.20797456, 0.81713491, 0.1720685 , 0.4047368 ,\n",
       "       0.10383201, 0.98485235, 0.86057475, 0.10498902, 0.71560604,\n",
       "       0.80461389, 0.92424938, 0.03524227, 0.23588737, 0.14667745,\n",
       "       0.84160585, 0.80671456, 0.83509319])"
      ]
     },
     "execution_count": 31,
     "metadata": {},
     "output_type": "execute_result"
    }
   ],
   "source": [
    "a"
   ]
  },
  {
   "cell_type": "code",
   "execution_count": null,
   "id": "960f430e",
   "metadata": {},
   "outputs": [],
   "source": []
  },
  {
   "cell_type": "markdown",
   "id": "74838b91",
   "metadata": {},
   "source": [
    "# <"
   ]
  },
  {
   "cell_type": "code",
   "execution_count": 25,
   "id": "6872b7a1",
   "metadata": {},
   "outputs": [],
   "source": [
    "mn=np.arange(50)"
   ]
  },
  {
   "cell_type": "code",
   "execution_count": 26,
   "id": "de348902",
   "metadata": {},
   "outputs": [
    {
     "data": {
      "text/plain": [
       "array([ 0,  1,  2,  3,  4,  5,  6,  7,  8,  9, 10, 11])"
      ]
     },
     "execution_count": 26,
     "metadata": {},
     "output_type": "execute_result"
    }
   ],
   "source": [
    "mn[mn<12]"
   ]
  },
  {
   "cell_type": "code",
   "execution_count": 27,
   "id": "052849e4",
   "metadata": {},
   "outputs": [
    {
     "data": {
      "text/plain": [
       "array([ 0,  1,  2,  3,  4,  5,  6,  7,  8,  9, 10, 11, 12, 13, 14, 15, 16,\n",
       "       17, 18, 19, 20, 21, 22, 23, 24, 25, 26, 27, 28, 29, 30, 31, 32, 33,\n",
       "       34, 35, 36, 37, 38, 39, 40, 41, 42, 43, 44, 45, 46, 47, 48, 49])"
      ]
     },
     "execution_count": 27,
     "metadata": {},
     "output_type": "execute_result"
    }
   ],
   "source": [
    "mn"
   ]
  },
  {
   "cell_type": "code",
   "execution_count": null,
   "id": "ebc41c4a",
   "metadata": {},
   "outputs": [],
   "source": []
  },
  {
   "cell_type": "markdown",
   "id": "f8131138",
   "metadata": {},
   "source": [
    "## Broadcasting"
   ]
  },
  {
   "cell_type": "code",
   "execution_count": 30,
   "id": "c165edd1",
   "metadata": {},
   "outputs": [],
   "source": [
    "mn[mn>25]=100   #replacing all the numbers more than 25 with 100"
   ]
  },
  {
   "cell_type": "code",
   "execution_count": 31,
   "id": "1b3b1b29",
   "metadata": {},
   "outputs": [
    {
     "data": {
      "text/plain": [
       "array([  0,   1,   2,   3,   4,   5,   6,   7,   8,   9,  10,  11,  12,\n",
       "        13,  14,  15,  16,  17,  18,  19,  20,  21,  22,  23,  24,  25,\n",
       "       100, 100, 100, 100, 100, 100, 100, 100, 100, 100, 100, 100, 100,\n",
       "       100, 100, 100, 100, 100, 100, 100, 100, 100, 100, 100])"
      ]
     },
     "execution_count": 31,
     "metadata": {},
     "output_type": "execute_result"
    }
   ],
   "source": [
    "mn"
   ]
  },
  {
   "cell_type": "code",
   "execution_count": null,
   "id": "62b1db76",
   "metadata": {},
   "outputs": [],
   "source": []
  },
  {
   "cell_type": "markdown",
   "id": "fa2efaf1",
   "metadata": {},
   "source": [
    "## Copy Function\n"
   ]
  },
  {
   "cell_type": "markdown",
   "id": "dc058dce",
   "metadata": {},
   "source": [
    "mn=n.copy()"
   ]
  },
  {
   "cell_type": "code",
   "execution_count": null,
   "id": "59d0898f",
   "metadata": {},
   "outputs": [],
   "source": []
  },
  {
   "cell_type": "markdown",
   "id": "80ae8133",
   "metadata": {},
   "source": [
    "## arr.max() ,  arr.min() ,     arr.sum()"
   ]
  },
  {
   "cell_type": "code",
   "execution_count": null,
   "id": "82861197",
   "metadata": {},
   "outputs": [],
   "source": []
  },
  {
   "cell_type": "markdown",
   "id": "4768a817",
   "metadata": {},
   "source": [
    "## <font color='blue'> Sorting </font>"
   ]
  },
  {
   "cell_type": "code",
   "execution_count": 32,
   "id": "00daff30",
   "metadata": {},
   "outputs": [],
   "source": [
    "a=np.random.randint(3,30,(3,5))"
   ]
  },
  {
   "cell_type": "code",
   "execution_count": 33,
   "id": "a9a5b25a",
   "metadata": {},
   "outputs": [
    {
     "data": {
      "text/plain": [
       "array([[26,  5,  8, 19, 29],\n",
       "       [ 3, 14, 13,  8, 16],\n",
       "       [16, 11,  6, 29,  4]])"
      ]
     },
     "execution_count": 33,
     "metadata": {},
     "output_type": "execute_result"
    }
   ],
   "source": [
    "a"
   ]
  },
  {
   "cell_type": "code",
   "execution_count": 34,
   "id": "362ba7b9",
   "metadata": {},
   "outputs": [
    {
     "data": {
      "text/plain": [
       "array([[ 3,  5,  6,  8,  4],\n",
       "       [16, 11,  8, 19, 16],\n",
       "       [26, 14, 13, 29, 29]])"
      ]
     },
     "execution_count": 34,
     "metadata": {},
     "output_type": "execute_result"
    }
   ],
   "source": [
    "np.sort(a,axis=0,kind='heapsort')"
   ]
  },
  {
   "cell_type": "code",
   "execution_count": 35,
   "id": "6530bb86",
   "metadata": {},
   "outputs": [
    {
     "data": {
      "text/plain": [
       "array([[ 5,  8, 19, 26, 29],\n",
       "       [ 3,  8, 13, 14, 16],\n",
       "       [ 4,  6, 11, 16, 29]])"
      ]
     },
     "execution_count": 35,
     "metadata": {},
     "output_type": "execute_result"
    }
   ],
   "source": [
    "np.sort(a,axis=1,kind='quicksort')"
   ]
  },
  {
   "cell_type": "code",
   "execution_count": 36,
   "id": "d6bfb9bc",
   "metadata": {},
   "outputs": [
    {
     "data": {
      "text/plain": [
       "array([[ 5,  8, 19, 26, 29],\n",
       "       [ 3,  8, 13, 14, 16],\n",
       "       [ 4,  6, 11, 16, 29]])"
      ]
     },
     "execution_count": 36,
     "metadata": {},
     "output_type": "execute_result"
    }
   ],
   "source": [
    "np.sort(a)"
   ]
  },
  {
   "cell_type": "markdown",
   "id": "16d556b8",
   "metadata": {},
   "source": [
    "## <font color='blue'> Merge and Split </font>"
   ]
  },
  {
   "cell_type": "code",
   "execution_count": 37,
   "id": "2fc34420",
   "metadata": {},
   "outputs": [],
   "source": [
    "a1=np.random.randint(2,10,(2,4))\n",
    "a2=np.random.randint(11,21,(2,4))"
   ]
  },
  {
   "cell_type": "code",
   "execution_count": 38,
   "id": "578797d7",
   "metadata": {},
   "outputs": [
    {
     "data": {
      "text/plain": [
       "array([[6, 4, 5, 4],\n",
       "       [6, 2, 8, 3]])"
      ]
     },
     "execution_count": 38,
     "metadata": {},
     "output_type": "execute_result"
    }
   ],
   "source": [
    "a1"
   ]
  },
  {
   "cell_type": "code",
   "execution_count": 39,
   "id": "86b162dc",
   "metadata": {},
   "outputs": [
    {
     "data": {
      "text/plain": [
       "array([[15, 20, 13, 12],\n",
       "       [15, 13, 11, 13]])"
      ]
     },
     "execution_count": 39,
     "metadata": {},
     "output_type": "execute_result"
    }
   ],
   "source": [
    "a2"
   ]
  },
  {
   "cell_type": "code",
   "execution_count": 40,
   "id": "632daf2e",
   "metadata": {},
   "outputs": [
    {
     "data": {
      "text/plain": [
       "array([[ 6,  4,  5,  4, 15, 20, 13, 12],\n",
       "       [ 6,  2,  8,  3, 15, 13, 11, 13]])"
      ]
     },
     "execution_count": 40,
     "metadata": {},
     "output_type": "execute_result"
    }
   ],
   "source": [
    "np.hstack((a1,a2))"
   ]
  },
  {
   "cell_type": "code",
   "execution_count": 41,
   "id": "79266b99",
   "metadata": {},
   "outputs": [
    {
     "data": {
      "text/plain": [
       "array([[ 6,  4,  5,  4],\n",
       "       [ 6,  2,  8,  3],\n",
       "       [15, 20, 13, 12],\n",
       "       [15, 13, 11, 13]])"
      ]
     },
     "execution_count": 41,
     "metadata": {},
     "output_type": "execute_result"
    }
   ],
   "source": [
    "np.vstack((a1,a2))"
   ]
  },
  {
   "cell_type": "code",
   "execution_count": 43,
   "id": "ae37cb87",
   "metadata": {},
   "outputs": [],
   "source": [
    "a=np.concatenate((a1,a2),axis=0)"
   ]
  },
  {
   "cell_type": "code",
   "execution_count": 44,
   "id": "1f6418aa",
   "metadata": {},
   "outputs": [
    {
     "data": {
      "text/plain": [
       "array([[ 6,  4,  5,  4],\n",
       "       [ 6,  2,  8,  3],\n",
       "       [15, 20, 13, 12],\n",
       "       [15, 13, 11, 13]])"
      ]
     },
     "execution_count": 44,
     "metadata": {},
     "output_type": "execute_result"
    }
   ],
   "source": [
    "a"
   ]
  },
  {
   "cell_type": "code",
   "execution_count": 45,
   "id": "9f4d5658",
   "metadata": {},
   "outputs": [
    {
     "data": {
      "text/plain": [
       "[array([[6, 4, 5, 4],\n",
       "        [6, 2, 8, 3]]),\n",
       " array([[15, 20, 13, 12],\n",
       "        [15, 13, 11, 13]])]"
      ]
     },
     "execution_count": 45,
     "metadata": {},
     "output_type": "execute_result"
    }
   ],
   "source": [
    "np.vsplit(a,2)"
   ]
  },
  {
   "cell_type": "code",
   "execution_count": 46,
   "id": "9176609d",
   "metadata": {},
   "outputs": [
    {
     "data": {
      "text/plain": [
       "[array([[6, 4, 5, 4]]),\n",
       " array([[6, 2, 8, 3]]),\n",
       " array([[15, 20, 13, 12]]),\n",
       " array([[15, 13, 11, 13]])]"
      ]
     },
     "execution_count": 46,
     "metadata": {},
     "output_type": "execute_result"
    }
   ],
   "source": [
    "np.vsplit(a,4)"
   ]
  },
  {
   "cell_type": "code",
   "execution_count": 47,
   "id": "bfdedc66",
   "metadata": {},
   "outputs": [
    {
     "data": {
      "text/plain": [
       "[array([[ 6,  4],\n",
       "        [ 6,  2],\n",
       "        [15, 20],\n",
       "        [15, 13]]),\n",
       " array([[ 5,  4],\n",
       "        [ 8,  3],\n",
       "        [13, 12],\n",
       "        [11, 13]])]"
      ]
     },
     "execution_count": 47,
     "metadata": {},
     "output_type": "execute_result"
    }
   ],
   "source": [
    "np.hsplit(a,2)"
   ]
  },
  {
   "cell_type": "code",
   "execution_count": 48,
   "id": "572eb110",
   "metadata": {},
   "outputs": [
    {
     "data": {
      "text/plain": [
       "[array([[ 6],\n",
       "        [ 6],\n",
       "        [15],\n",
       "        [15]]),\n",
       " array([[ 4],\n",
       "        [ 2],\n",
       "        [20],\n",
       "        [13]]),\n",
       " array([[ 5],\n",
       "        [ 8],\n",
       "        [13],\n",
       "        [11]]),\n",
       " array([[ 4],\n",
       "        [ 3],\n",
       "        [12],\n",
       "        [13]])]"
      ]
     },
     "execution_count": 48,
     "metadata": {},
     "output_type": "execute_result"
    }
   ],
   "source": [
    "np.hsplit(a,4)"
   ]
  },
  {
   "cell_type": "code",
   "execution_count": null,
   "id": "ed662440",
   "metadata": {},
   "outputs": [],
   "source": []
  }
 ],
 "metadata": {
  "kernelspec": {
   "display_name": "Python 3 (ipykernel)",
   "language": "python",
   "name": "python3"
  },
  "language_info": {
   "codemirror_mode": {
    "name": "ipython",
    "version": 3
   },
   "file_extension": ".py",
   "mimetype": "text/x-python",
   "name": "python",
   "nbconvert_exporter": "python",
   "pygments_lexer": "ipython3",
   "version": "3.9.12"
  }
 },
 "nbformat": 4,
 "nbformat_minor": 5
}
