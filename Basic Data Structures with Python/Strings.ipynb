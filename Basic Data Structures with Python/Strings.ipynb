{
 "cells": [
  {
   "cell_type": "markdown",
   "id": "26187193",
   "metadata": {},
   "source": [
    "# <div class='alert alert-danger'> Strings </div>"
   ]
  },
  {
   "cell_type": "markdown",
   "id": "2c76a12e",
   "metadata": {},
   "source": [
    "Like many other popular programming languages, strings in Python are arrays of bytes representing unicode characters.\n",
    "\n",
    "However, Python does not have a character data type, a single character is simply a string with a length of 1.\n",
    "\n",
    "Square brackets can be used to access elements of the string.\n",
    "\n"
   ]
  },
  {
   "cell_type": "code",
   "execution_count": null,
   "id": "9c52cc19",
   "metadata": {},
   "outputs": [],
   "source": []
  },
  {
   "cell_type": "markdown",
   "id": "63dc6b7c",
   "metadata": {},
   "source": [
    "### Looping in String"
   ]
  },
  {
   "cell_type": "code",
   "execution_count": 3,
   "id": "c22dff1c",
   "metadata": {},
   "outputs": [
    {
     "name": "stdout",
     "output_type": "stream",
     "text": [
      "eshant"
     ]
    }
   ],
   "source": [
    "x='eshant'\n",
    "for i in x:\n",
    "    print(i,end='')"
   ]
  },
  {
   "cell_type": "code",
   "execution_count": null,
   "id": "7103f0d7",
   "metadata": {},
   "outputs": [],
   "source": []
  },
  {
   "cell_type": "markdown",
   "id": "22131231",
   "metadata": {},
   "source": [
    "### String Length"
   ]
  },
  {
   "cell_type": "code",
   "execution_count": 4,
   "id": "8e6f8674",
   "metadata": {},
   "outputs": [
    {
     "name": "stdout",
     "output_type": "stream",
     "text": [
      "6\n"
     ]
    }
   ],
   "source": [
    "x='eshant'\n",
    "print(len(x))"
   ]
  },
  {
   "cell_type": "code",
   "execution_count": null,
   "id": "34f51a5d",
   "metadata": {},
   "outputs": [],
   "source": []
  },
  {
   "cell_type": "markdown",
   "id": "c9dc1d91",
   "metadata": {},
   "source": [
    "- Slicing is same as that of the list"
   ]
  },
  {
   "cell_type": "code",
   "execution_count": null,
   "id": "abcc188c",
   "metadata": {},
   "outputs": [],
   "source": []
  },
  {
   "cell_type": "markdown",
   "id": "4e41d01e",
   "metadata": {},
   "source": [
    "### All important functions:\n",
    "\n",
    "- s.lower()\n",
    "- s.upper()\n",
    "- s.strip()\n",
    "- s.lstrip() and s.rstip()\n",
    "- s.replace('a','b')\n",
    "- s.split()\n"
   ]
  },
  {
   "cell_type": "markdown",
   "id": "4124e6bd",
   "metadata": {},
   "source": [
    "- capitalize()\tConverts the first character to upper case\n",
    "- casefold()\tConverts string into lower case\n",
    "- center()\tReturns a centered string\n",
    "- count()\tReturns the number of times a specified value occurs in a string\n",
    "- encode()\tReturns an encoded version of the string\n",
    "- endswith()\tReturns true if the string ends with the specified value\n",
    "- expandtabs()\tSets the tab size of the string\n",
    "-  find()\tSearches the string for a specified value and returns the position of where it was found\n",
    "- format()\tFormats specified values in a string\n",
    "- format_map()\tFormats specified values in a string\n",
    "- index()\tSearches the string for a specified value and returns the position of where it was found\n",
    "- isalnum()\tReturns True if all characters in the string are alphanumeric\n",
    "- isalpha()\tReturns True if all characters in the string are in the alphabet\n",
    "- isdecimal()\tReturns True if all characters in the string are decimals\n",
    "- isdigit()\tReturns True if all characters in the string are digits\n",
    "- isidentifier()\tReturns True if the string is an identifier\n",
    "- islower()\tReturns True if all characters in the string are lower case  \n",
    "- isnumeric()\tReturns True if all characters in the string are numeric\n",
    "- isprintable()\tReturns True if all characters in the string are printable\n",
    "- isspace()\tReturns True if all characters in the string are whitespaces\n",
    "- istitle()\tReturns True if the string follows the rules of a title\n",
    "- isupper()\tReturns True if all characters in the string are upper case\n",
    "- join()\tJoins the elements of an iterable to the end of the string"
   ]
  },
  {
   "cell_type": "code",
   "execution_count": null,
   "id": "eca1371b",
   "metadata": {},
   "outputs": [],
   "source": []
  },
  {
   "cell_type": "markdown",
   "id": "94746c63",
   "metadata": {},
   "source": [
    "### Casefold"
   ]
  },
  {
   "cell_type": "code",
   "execution_count": 13,
   "id": "02e54942",
   "metadata": {},
   "outputs": [
    {
     "data": {
      "text/plain": [
       "'eshant'"
      ]
     },
     "execution_count": 13,
     "metadata": {},
     "output_type": "execute_result"
    }
   ],
   "source": [
    "a=\"ESHANt\"\n",
    "a.casefold()"
   ]
  },
  {
   "cell_type": "markdown",
   "id": "cfdee205",
   "metadata": {},
   "source": [
    "### Center"
   ]
  },
  {
   "cell_type": "code",
   "execution_count": 16,
   "id": "f63441e9",
   "metadata": {},
   "outputs": [
    {
     "name": "stdout",
     "output_type": "stream",
     "text": [
      "*******Eshant*******\n",
      "       Eshant       \n"
     ]
    }
   ],
   "source": [
    "a=\"Eshant\"\n",
    "print(a.center(20,\"*\"))\n",
    "print(a.center(20))"
   ]
  },
  {
   "cell_type": "markdown",
   "id": "d903b878",
   "metadata": {},
   "source": [
    "### Count"
   ]
  },
  {
   "cell_type": "code",
   "execution_count": 17,
   "id": "c84ad4f0",
   "metadata": {},
   "outputs": [
    {
     "data": {
      "text/plain": [
       "1"
      ]
     },
     "execution_count": 17,
     "metadata": {},
     "output_type": "execute_result"
    }
   ],
   "source": [
    "a.count('a')"
   ]
  },
  {
   "cell_type": "markdown",
   "id": "3fc2ea67",
   "metadata": {},
   "source": [
    "### Find"
   ]
  },
  {
   "cell_type": "code",
   "execution_count": 20,
   "id": "c6cc05b5",
   "metadata": {},
   "outputs": [
    {
     "data": {
      "text/plain": [
       "-1"
      ]
     },
     "execution_count": 20,
     "metadata": {},
     "output_type": "execute_result"
    }
   ],
   "source": [
    "a.find('R')"
   ]
  },
  {
   "cell_type": "code",
   "execution_count": 22,
   "id": "4ceb02ff",
   "metadata": {},
   "outputs": [
    {
     "data": {
      "text/plain": [
       "1"
      ]
     },
     "execution_count": 22,
     "metadata": {},
     "output_type": "execute_result"
    }
   ],
   "source": [
    "a.find('s')"
   ]
  },
  {
   "cell_type": "code",
   "execution_count": 24,
   "id": "fd31d89b",
   "metadata": {},
   "outputs": [
    {
     "ename": "ValueError",
     "evalue": "substring not found",
     "output_type": "error",
     "traceback": [
      "\u001b[0;31m---------------------------------------------------------------------------\u001b[0m",
      "\u001b[0;31mValueError\u001b[0m                                Traceback (most recent call last)",
      "Input \u001b[0;32mIn [24]\u001b[0m, in \u001b[0;36m<cell line: 1>\u001b[0;34m()\u001b[0m\n\u001b[0;32m----> 1\u001b[0m \u001b[43ma\u001b[49m\u001b[38;5;241;43m.\u001b[39;49m\u001b[43mindex\u001b[49m\u001b[43m(\u001b[49m\u001b[38;5;124;43m'\u001b[39;49m\u001b[38;5;124;43mR\u001b[39;49m\u001b[38;5;124;43m'\u001b[39;49m\u001b[43m)\u001b[49m\n",
      "\u001b[0;31mValueError\u001b[0m: substring not found"
     ]
    }
   ],
   "source": [
    "a.index('R')"
   ]
  },
  {
   "cell_type": "code",
   "execution_count": 25,
   "id": "c33a639c",
   "metadata": {},
   "outputs": [
    {
     "data": {
      "text/plain": [
       "1"
      ]
     },
     "execution_count": 25,
     "metadata": {},
     "output_type": "execute_result"
    }
   ],
   "source": [
    "a.index('s')"
   ]
  },
  {
   "cell_type": "code",
   "execution_count": null,
   "id": "f4ffd9df",
   "metadata": {},
   "outputs": [],
   "source": []
  }
 ],
 "metadata": {
  "kernelspec": {
   "display_name": "Python 3 (ipykernel)",
   "language": "python",
   "name": "python3"
  },
  "language_info": {
   "codemirror_mode": {
    "name": "ipython",
    "version": 3
   },
   "file_extension": ".py",
   "mimetype": "text/x-python",
   "name": "python",
   "nbconvert_exporter": "python",
   "pygments_lexer": "ipython3",
   "version": "3.9.12"
  }
 },
 "nbformat": 4,
 "nbformat_minor": 5
}
