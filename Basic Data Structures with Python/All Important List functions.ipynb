{
 "cells": [
  {
   "cell_type": "markdown",
   "id": "42ebb824",
   "metadata": {},
   "source": [
    "# Length function"
   ]
  },
  {
   "cell_type": "code",
   "execution_count": 1,
   "id": "f6eb8fc8",
   "metadata": {},
   "outputs": [
    {
     "name": "stdout",
     "output_type": "stream",
     "text": [
      "5\n"
     ]
    }
   ],
   "source": [
    "a=[1,2,3,4,5]\n",
    "print(len(a))# len"
   ]
  },
  {
   "cell_type": "code",
   "execution_count": null,
   "id": "9813db06",
   "metadata": {},
   "outputs": [],
   "source": []
  },
  {
   "cell_type": "markdown",
   "id": "2f93e752",
   "metadata": {},
   "source": [
    "# Simple reversing technique"
   ]
  },
  {
   "cell_type": "code",
   "execution_count": 3,
   "id": "74052d7e",
   "metadata": {},
   "outputs": [
    {
     "name": "stdout",
     "output_type": "stream",
     "text": [
      "[5, 4, 3, 2, 1]\n"
     ]
    }
   ],
   "source": [
    "a=[1,2,3,4,5]\n",
    "b=a[::-1]\n",
    "print(b)"
   ]
  },
  {
   "cell_type": "code",
   "execution_count": null,
   "id": "83688ef9",
   "metadata": {},
   "outputs": [],
   "source": []
  },
  {
   "cell_type": "markdown",
   "id": "ad57ea7f",
   "metadata": {},
   "source": [
    "# Append function"
   ]
  },
  {
   "cell_type": "code",
   "execution_count": 4,
   "id": "8783ef63",
   "metadata": {},
   "outputs": [
    {
     "name": "stdout",
     "output_type": "stream",
     "text": [
      "[1, 2, 3, 4, 5, 11, 'eshant', [6, 7, 8]]\n"
     ]
    }
   ],
   "source": [
    "#adding some element or any  sort of data structure at the end of the list\n",
    "a=[1,2,3,4,5]\n",
    "b=11\n",
    "c='eshant'\n",
    "d=[6,7,8]\n",
    "a.append(b)\n",
    "a.append(c)\n",
    "a.append(d)\n",
    "print(a)\n"
   ]
  },
  {
   "cell_type": "code",
   "execution_count": 5,
   "id": "734b8f61",
   "metadata": {},
   "outputs": [
    {
     "name": "stdout",
     "output_type": "stream",
     "text": [
      "[0, 1, 2, 3, 4]\n"
     ]
    }
   ],
   "source": [
    "b=[]\n",
    "for i in range(5):\n",
    "    b.append(i)\n",
    "print(b)"
   ]
  },
  {
   "cell_type": "code",
   "execution_count": null,
   "id": "27dfda79",
   "metadata": {},
   "outputs": [],
   "source": []
  },
  {
   "cell_type": "markdown",
   "id": "cf40c33c",
   "metadata": {},
   "source": [
    "# Insert fumction"
   ]
  },
  {
   "cell_type": "code",
   "execution_count": 6,
   "id": "39d07c4e",
   "metadata": {},
   "outputs": [
    {
     "name": "stdout",
     "output_type": "stream",
     "text": [
      "[1, 2, 'HELLO', 3, 4, 5]\n"
     ]
    }
   ],
   "source": [
    "#insert(index,object) ---> this is the syntax\n",
    "\n",
    "a=[1,2,3,4,5]\n",
    "a.insert(2,'HELLO')\n",
    "print(a)"
   ]
  },
  {
   "cell_type": "code",
   "execution_count": null,
   "id": "1798f3f6",
   "metadata": {},
   "outputs": [],
   "source": []
  },
  {
   "cell_type": "markdown",
   "id": "5a2459b8",
   "metadata": {},
   "source": [
    "# Extend function"
   ]
  },
  {
   "cell_type": "code",
   "execution_count": 7,
   "id": "9d814243",
   "metadata": {},
   "outputs": [
    {
     "name": "stdout",
     "output_type": "stream",
     "text": [
      "[1, 2, 3, 4, 6, 7, 8]\n"
     ]
    }
   ],
   "source": [
    "#Extend is like append but it adds another list as individual elements unlike append which\n",
    "#     adds it as a single list\n",
    "a=[1,2,3,4]\n",
    "b=[6,7,8]\n",
    "a.extend(b)\n",
    "print(a)"
   ]
  },
  {
   "cell_type": "code",
   "execution_count": null,
   "id": "d2cc1420",
   "metadata": {},
   "outputs": [],
   "source": []
  },
  {
   "cell_type": "markdown",
   "id": "fea73be2",
   "metadata": {},
   "source": [
    "# Remove function"
   ]
  },
  {
   "cell_type": "code",
   "execution_count": 8,
   "id": "77e12870",
   "metadata": {},
   "outputs": [
    {
     "name": "stdout",
     "output_type": "stream",
     "text": [
      "[1, 3, 4, 5]\n"
     ]
    }
   ],
   "source": [
    "#remove function will remove the specified element in the parameter\n",
    "a=[1,2,3,4,5]\n",
    "a.remove(2)\n",
    "print(a)"
   ]
  },
  {
   "cell_type": "code",
   "execution_count": null,
   "id": "8c3e5f07",
   "metadata": {},
   "outputs": [],
   "source": []
  },
  {
   "cell_type": "markdown",
   "id": "05c9eabb",
   "metadata": {},
   "source": [
    "# Pop function"
   ]
  },
  {
   "cell_type": "code",
   "execution_count": 9,
   "id": "39e8b695",
   "metadata": {},
   "outputs": [
    {
     "name": "stdout",
     "output_type": "stream",
     "text": [
      "[1, 2, 4, 5]\n",
      "[6, 7, 8, 9]\n"
     ]
    }
   ],
   "source": [
    "#it works like insert but we need to mention the index instead of the element itself\n",
    "#by default it would remove the last element\n",
    "a=[1,2,3,4,5]\n",
    "a.pop(2)\n",
    "print(a)\n",
    "b=[6,7,8,9,10]\n",
    "b.pop()\n",
    "print(b)"
   ]
  },
  {
   "cell_type": "code",
   "execution_count": null,
   "id": "eb51fd9a",
   "metadata": {},
   "outputs": [],
   "source": []
  },
  {
   "cell_type": "markdown",
   "id": "28b8b4e7",
   "metadata": {},
   "source": [
    "# Delete function"
   ]
  },
  {
   "cell_type": "code",
   "execution_count": 10,
   "id": "997f3001",
   "metadata": {},
   "outputs": [
    {
     "name": "stdout",
     "output_type": "stream",
     "text": [
      "[2, 3, 4, 5]\n",
      "[6, 10]\n"
     ]
    }
   ],
   "source": [
    "#WE use it with slicing to explain it better\n",
    "a=[1,2,3,4,5]\n",
    "del a[0]\n",
    "print(a)\n",
    "b=[6,7,8,9,10]\n",
    "del b[1:4]\n",
    "print(b)"
   ]
  },
  {
   "cell_type": "code",
   "execution_count": null,
   "id": "e51625d8",
   "metadata": {},
   "outputs": [],
   "source": []
  },
  {
   "cell_type": "markdown",
   "id": "8184bbd6",
   "metadata": {},
   "source": [
    "# Sort and Reverse Function"
   ]
  },
  {
   "cell_type": "code",
   "execution_count": 11,
   "id": "08a3ead7",
   "metadata": {},
   "outputs": [
    {
     "name": "stdout",
     "output_type": "stream",
     "text": [
      "[5, 4, 3, 2, 1]\n",
      "[0, 12, 34, 65, 324, 675]\n"
     ]
    }
   ],
   "source": [
    "a=[1,2,3,4,5]\n",
    "a.reverse()\n",
    "print(a)\n",
    "b=[34,65,324,675,12,0]\n",
    "b.sort()\n",
    "print(b)"
   ]
  },
  {
   "cell_type": "code",
   "execution_count": null,
   "id": "cc46f422",
   "metadata": {},
   "outputs": [],
   "source": []
  },
  {
   "cell_type": "markdown",
   "id": "7fe93e9c",
   "metadata": {},
   "source": [
    "# Clear Function"
   ]
  },
  {
   "cell_type": "code",
   "execution_count": 12,
   "id": "3402f8c4",
   "metadata": {},
   "outputs": [
    {
     "name": "stdout",
     "output_type": "stream",
     "text": [
      "[]\n"
     ]
    }
   ],
   "source": [
    "#This function is used to clear all the elements in the list\n",
    "# it makes the list empty\n",
    "a=[1,2,3,4,5]\n",
    "a.clear()\n",
    "print(a)"
   ]
  },
  {
   "cell_type": "code",
   "execution_count": null,
   "id": "839568ad",
   "metadata": {},
   "outputs": [],
   "source": []
  },
  {
   "cell_type": "markdown",
   "id": "dac66106",
   "metadata": {},
   "source": [
    "# Index Function"
   ]
  },
  {
   "cell_type": "code",
   "execution_count": 13,
   "id": "461a5692",
   "metadata": {},
   "outputs": [
    {
     "name": "stdout",
     "output_type": "stream",
     "text": [
      "2\n"
     ]
    }
   ],
   "source": [
    "#It returns the index of a particular element\n",
    "a=[23,54,32,54,124]\n",
    "b=a.index(32)\n",
    "print(b)"
   ]
  },
  {
   "cell_type": "code",
   "execution_count": null,
   "id": "2f010486",
   "metadata": {},
   "outputs": [],
   "source": []
  },
  {
   "cell_type": "markdown",
   "id": "d1cf6a78",
   "metadata": {},
   "source": [
    "# Count Function"
   ]
  },
  {
   "cell_type": "code",
   "execution_count": 14,
   "id": "f4016a7b",
   "metadata": {},
   "outputs": [
    {
     "name": "stdout",
     "output_type": "stream",
     "text": [
      "6\n"
     ]
    }
   ],
   "source": [
    "#Returns the number of times the element is present in the list\n",
    "a=[1,2,3,4,5,1,2,3,4,5,5,5,5,5]\n",
    "c=a.count(5)\n",
    "print(c)"
   ]
  },
  {
   "cell_type": "code",
   "execution_count": null,
   "id": "242df642",
   "metadata": {},
   "outputs": [],
   "source": []
  },
  {
   "cell_type": "markdown",
   "id": "b17e08e5",
   "metadata": {},
   "source": [
    "# Sum function"
   ]
  },
  {
   "cell_type": "code",
   "execution_count": 15,
   "id": "d72c3837",
   "metadata": {},
   "outputs": [
    {
     "name": "stdout",
     "output_type": "stream",
     "text": [
      "15\n"
     ]
    }
   ],
   "source": [
    "a=[1,2,3,4,5]\n",
    "#It will return the sum of the numbers present in the list\n",
    "s=sum(a)\n",
    "print(s)"
   ]
  },
  {
   "cell_type": "code",
   "execution_count": null,
   "id": "ada9ff48",
   "metadata": {},
   "outputs": [],
   "source": []
  },
  {
   "cell_type": "markdown",
   "id": "2a685d45",
   "metadata": {},
   "source": [
    "# Max and Min Function"
   ]
  },
  {
   "cell_type": "code",
   "execution_count": 17,
   "id": "39e6a05b",
   "metadata": {},
   "outputs": [
    {
     "name": "stdout",
     "output_type": "stream",
     "text": [
      "Max =  5 \n",
      "Min =  1\n"
     ]
    }
   ],
   "source": [
    "a=[1,2,3,4,5]\n",
    "ma=max(a)\n",
    "mi=min(a)\n",
    "print(\"Max = \",ma,\"\\nMin = \",mi)"
   ]
  },
  {
   "cell_type": "code",
   "execution_count": null,
   "id": "bd28a6f0",
   "metadata": {},
   "outputs": [],
   "source": []
  }
 ],
 "metadata": {
  "kernelspec": {
   "display_name": "Python 3",
   "language": "python",
   "name": "python3"
  },
  "language_info": {
   "codemirror_mode": {
    "name": "ipython",
    "version": 3
   },
   "file_extension": ".py",
   "mimetype": "text/x-python",
   "name": "python",
   "nbconvert_exporter": "python",
   "pygments_lexer": "ipython3",
   "version": "3.8.8"
  }
 },
 "nbformat": 4,
 "nbformat_minor": 5
}
