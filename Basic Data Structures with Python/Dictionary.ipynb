{
 "cells": [
  {
   "cell_type": "markdown",
   "id": "3d569285",
   "metadata": {},
   "source": [
    "# Defferent ways to create dict"
   ]
  },
  {
   "cell_type": "code",
   "execution_count": 1,
   "id": "b939a166",
   "metadata": {},
   "outputs": [],
   "source": [
    "#1st way\n",
    "S={\"Name\":\"Eshant\",\"age\":20,\"Gender\":\"Male\",\"ID\":58}"
   ]
  },
  {
   "cell_type": "code",
   "execution_count": 3,
   "id": "a0370466",
   "metadata": {},
   "outputs": [
    {
     "data": {
      "text/plain": [
       "'Eshant'"
      ]
     },
     "execution_count": 3,
     "metadata": {},
     "output_type": "execute_result"
    }
   ],
   "source": [
    "S[\"Name\"]"
   ]
  },
  {
   "cell_type": "code",
   "execution_count": 4,
   "id": "ad463f6c",
   "metadata": {},
   "outputs": [],
   "source": [
    "##2nd way\n",
    "s=dict([('Name',\"Eshant\"),('Age',20),('Gender','Male'),('ID',58)])"
   ]
  },
  {
   "cell_type": "code",
   "execution_count": 5,
   "id": "a6d889c7",
   "metadata": {},
   "outputs": [
    {
     "data": {
      "text/plain": [
       "'Male'"
      ]
     },
     "execution_count": 5,
     "metadata": {},
     "output_type": "execute_result"
    }
   ],
   "source": [
    "s['Gender']"
   ]
  },
  {
   "cell_type": "code",
   "execution_count": 6,
   "id": "400ca9cc",
   "metadata": {},
   "outputs": [],
   "source": [
    "##3rd way\n",
    "d=dict(Name=\"eshant\",Age=20,Gender=\"Male\",ID=58)"
   ]
  },
  {
   "cell_type": "code",
   "execution_count": 7,
   "id": "a6f57d12",
   "metadata": {},
   "outputs": [
    {
     "data": {
      "text/plain": [
       "58"
      ]
     },
     "execution_count": 7,
     "metadata": {},
     "output_type": "execute_result"
    }
   ],
   "source": [
    "d[\"ID\"]"
   ]
  },
  {
   "cell_type": "code",
   "execution_count": null,
   "id": "d65cf7ea",
   "metadata": {},
   "outputs": [],
   "source": []
  },
  {
   "cell_type": "markdown",
   "id": "22fe183d",
   "metadata": {},
   "source": [
    "# Updating dict"
   ]
  },
  {
   "cell_type": "code",
   "execution_count": 8,
   "id": "96f36e2e",
   "metadata": {},
   "outputs": [],
   "source": [
    "s[\"Uni\"]=\"LPU\" ##check above to see the variable 's'"
   ]
  },
  {
   "cell_type": "code",
   "execution_count": 9,
   "id": "14bdd1a9",
   "metadata": {},
   "outputs": [
    {
     "data": {
      "text/plain": [
       "{'Name': 'Eshant', 'Age': 20, 'Gender': 'Male', 'ID': 58, 'Uni': 'LPU'}"
      ]
     },
     "execution_count": 9,
     "metadata": {},
     "output_type": "execute_result"
    }
   ],
   "source": [
    "s"
   ]
  },
  {
   "cell_type": "code",
   "execution_count": null,
   "id": "d55c3b47",
   "metadata": {},
   "outputs": [],
   "source": []
  },
  {
   "cell_type": "markdown",
   "id": "ed769d4c",
   "metadata": {},
   "source": [
    "# Delete function in dict"
   ]
  },
  {
   "cell_type": "code",
   "execution_count": 10,
   "id": "fd5d4550",
   "metadata": {},
   "outputs": [],
   "source": [
    "del s['Uni']"
   ]
  },
  {
   "cell_type": "code",
   "execution_count": 11,
   "id": "c6b23c0a",
   "metadata": {},
   "outputs": [
    {
     "data": {
      "text/plain": [
       "{'Name': 'Eshant', 'Age': 20, 'Gender': 'Male', 'ID': 58}"
      ]
     },
     "execution_count": 11,
     "metadata": {},
     "output_type": "execute_result"
    }
   ],
   "source": [
    "s"
   ]
  },
  {
   "cell_type": "code",
   "execution_count": null,
   "id": "bac6ea8e",
   "metadata": {},
   "outputs": [],
   "source": []
  },
  {
   "cell_type": "markdown",
   "id": "0a6ff871",
   "metadata": {},
   "source": [
    "# Clear function"
   ]
  },
  {
   "cell_type": "code",
   "execution_count": 13,
   "id": "d6f1a90b",
   "metadata": {},
   "outputs": [
    {
     "name": "stdout",
     "output_type": "stream",
     "text": [
      "{1: 'Eshant', 2: 'Jayesh', 3: 'Riyan', 4: 'Lakshya'}\n"
     ]
    }
   ],
   "source": [
    "d={1:\"Eshant\",2:\"Jayesh\",3:\"Riyan\",4:\"Lakshya\"}\n",
    "print(d)"
   ]
  },
  {
   "cell_type": "code",
   "execution_count": 14,
   "id": "66f32789",
   "metadata": {},
   "outputs": [
    {
     "name": "stdout",
     "output_type": "stream",
     "text": [
      "{}\n"
     ]
    }
   ],
   "source": [
    "d.clear()\n",
    "print(d)"
   ]
  },
  {
   "cell_type": "code",
   "execution_count": null,
   "id": "1d8388b7",
   "metadata": {},
   "outputs": [],
   "source": []
  },
  {
   "cell_type": "markdown",
   "id": "4a0be261",
   "metadata": {},
   "source": [
    "# Get function"
   ]
  },
  {
   "cell_type": "code",
   "execution_count": 15,
   "id": "39b28c0b",
   "metadata": {},
   "outputs": [
    {
     "name": "stdout",
     "output_type": "stream",
     "text": [
      "Eshant\n",
      "Eshant\n"
     ]
    }
   ],
   "source": [
    "d={1:\"Eshant\",2:\"Jayesh\",3:\"Riyan\",4:\"Lakshya\"}\n",
    "print(d.get(1))  #same as d[1]\n",
    "print(d[1])"
   ]
  },
  {
   "cell_type": "code",
   "execution_count": null,
   "id": "3f016eb1",
   "metadata": {},
   "outputs": [],
   "source": []
  },
  {
   "cell_type": "markdown",
   "id": "75bd3270",
   "metadata": {},
   "source": [
    "# Item function"
   ]
  },
  {
   "cell_type": "code",
   "execution_count": 16,
   "id": "7892678b",
   "metadata": {},
   "outputs": [
    {
     "name": "stdout",
     "output_type": "stream",
     "text": [
      "dict_items([(1, 'Eshant'), (2, 'Jayesh'), (3, 'Riyan'), (4, 'Lakshya')])\n"
     ]
    }
   ],
   "source": [
    "d={1:\"Eshant\",2:\"Jayesh\",3:\"Riyan\",4:\"Lakshya\"}\n",
    "##it will return a list of tuples of all the key-value pairs\n",
    "print(d.items())"
   ]
  },
  {
   "cell_type": "code",
   "execution_count": null,
   "id": "a3867488",
   "metadata": {},
   "outputs": [],
   "source": []
  },
  {
   "cell_type": "markdown",
   "id": "d9f75679",
   "metadata": {},
   "source": [
    "# Keys and Values function"
   ]
  },
  {
   "cell_type": "code",
   "execution_count": 17,
   "id": "13d113b5",
   "metadata": {},
   "outputs": [],
   "source": [
    "d={1:\"Eshant\",2:\"Jayesh\",3:\"Riyan\",4:\"Lakshya\"}"
   ]
  },
  {
   "cell_type": "code",
   "execution_count": 18,
   "id": "8d5c162d",
   "metadata": {},
   "outputs": [
    {
     "data": {
      "text/plain": [
       "dict_keys([1, 2, 3, 4])"
      ]
     },
     "execution_count": 18,
     "metadata": {},
     "output_type": "execute_result"
    }
   ],
   "source": [
    "d.keys()#it will return the keys"
   ]
  },
  {
   "cell_type": "code",
   "execution_count": 19,
   "id": "628acd8b",
   "metadata": {},
   "outputs": [
    {
     "data": {
      "text/plain": [
       "dict_values(['Eshant', 'Jayesh', 'Riyan', 'Lakshya'])"
      ]
     },
     "execution_count": 19,
     "metadata": {},
     "output_type": "execute_result"
    }
   ],
   "source": [
    "d.values()#it will return the values"
   ]
  },
  {
   "cell_type": "code",
   "execution_count": null,
   "id": "847cbb2b",
   "metadata": {},
   "outputs": [],
   "source": []
  },
  {
   "cell_type": "markdown",
   "id": "58c0b7c5",
   "metadata": {},
   "source": [
    "# Pop and Popitem function"
   ]
  },
  {
   "cell_type": "code",
   "execution_count": 20,
   "id": "15766186",
   "metadata": {},
   "outputs": [
    {
     "data": {
      "text/plain": [
       "(4, 'Lakshya')"
      ]
     },
     "execution_count": 20,
     "metadata": {},
     "output_type": "execute_result"
    }
   ],
   "source": [
    "d={1:\"Eshant\",2:\"Jayesh\",3:\"Riyan\",4:\"Lakshya\"}\n",
    "#popitem removes the last key-value pair\n",
    "d.popitem()"
   ]
  },
  {
   "cell_type": "code",
   "execution_count": 21,
   "id": "6dc0bf8b",
   "metadata": {},
   "outputs": [
    {
     "data": {
      "text/plain": [
       "{1: 'Eshant', 2: 'Jayesh', 3: 'Riyan'}"
      ]
     },
     "execution_count": 21,
     "metadata": {},
     "output_type": "execute_result"
    }
   ],
   "source": [
    "d"
   ]
  },
  {
   "cell_type": "code",
   "execution_count": 23,
   "id": "cdfa623e",
   "metadata": {},
   "outputs": [
    {
     "data": {
      "text/plain": [
       "'Jayesh'"
      ]
     },
     "execution_count": 23,
     "metadata": {},
     "output_type": "execute_result"
    }
   ],
   "source": [
    "#for pop function we need to mention the key to remove it\n",
    "d.pop(2)"
   ]
  },
  {
   "cell_type": "code",
   "execution_count": 24,
   "id": "44b84e40",
   "metadata": {},
   "outputs": [
    {
     "data": {
      "text/plain": [
       "{1: 'Eshant', 3: 'Riyan'}"
      ]
     },
     "execution_count": 24,
     "metadata": {},
     "output_type": "execute_result"
    }
   ],
   "source": [
    "d"
   ]
  },
  {
   "cell_type": "code",
   "execution_count": null,
   "id": "9020a513",
   "metadata": {},
   "outputs": [],
   "source": []
  },
  {
   "cell_type": "markdown",
   "id": "25efba23",
   "metadata": {},
   "source": [
    "# Update function"
   ]
  },
  {
   "cell_type": "code",
   "execution_count": 25,
   "id": "c1260c16",
   "metadata": {},
   "outputs": [],
   "source": [
    "d1={1:\"eshant\",2:\"riyan\",3:\"Tanishta\",4:\"Esha\"}\n",
    "d2={5:\"hello\",6:\"welcome\"}\n",
    "d1.update(d2)"
   ]
  },
  {
   "cell_type": "code",
   "execution_count": 26,
   "id": "56e455be",
   "metadata": {},
   "outputs": [
    {
     "data": {
      "text/plain": [
       "{1: 'eshant', 2: 'riyan', 3: 'Tanishta', 4: 'Esha', 5: 'hello', 6: 'welcome'}"
      ]
     },
     "execution_count": 26,
     "metadata": {},
     "output_type": "execute_result"
    }
   ],
   "source": [
    "d1"
   ]
  },
  {
   "cell_type": "code",
   "execution_count": 27,
   "id": "d07190c5",
   "metadata": {},
   "outputs": [],
   "source": [
    "d1={1:\"eshant\",2:\"riyan\",3:\"Tanishta\",4:\"Esha\"}\n",
    "d2=[(5,\"Bye\"),(6,\"How\")]\n",
    "d1.update(d2)"
   ]
  },
  {
   "cell_type": "code",
   "execution_count": 28,
   "id": "2d81257d",
   "metadata": {},
   "outputs": [
    {
     "data": {
      "text/plain": [
       "{1: 'eshant', 2: 'riyan', 3: 'Tanishta', 4: 'Esha', 5: 'Bye', 6: 'How'}"
      ]
     },
     "execution_count": 28,
     "metadata": {},
     "output_type": "execute_result"
    }
   ],
   "source": [
    "d1"
   ]
  },
  {
   "cell_type": "code",
   "execution_count": 33,
   "id": "e3630712",
   "metadata": {},
   "outputs": [],
   "source": [
    "d1={1:\"eshant\",2:\"riyan\",3:\"Tanishta\",4:\"Esha\"}\n",
    "d2=dict(yo=\"let's go\",go=\"hmmmmm\")\n",
    "d1.update(d2)"
   ]
  },
  {
   "cell_type": "code",
   "execution_count": 34,
   "id": "2d4241b9",
   "metadata": {},
   "outputs": [
    {
     "data": {
      "text/plain": [
       "{1: 'eshant',\n",
       " 2: 'riyan',\n",
       " 3: 'Tanishta',\n",
       " 4: 'Esha',\n",
       " 'yo': \"let's go\",\n",
       " 'go': 'hmmmmm'}"
      ]
     },
     "execution_count": 34,
     "metadata": {},
     "output_type": "execute_result"
    }
   ],
   "source": [
    "d1"
   ]
  },
  {
   "cell_type": "code",
   "execution_count": null,
   "id": "c623d33b",
   "metadata": {},
   "outputs": [],
   "source": []
  },
  {
   "cell_type": "markdown",
   "id": "63f91823",
   "metadata": {},
   "source": [
    "# Copy function"
   ]
  },
  {
   "cell_type": "code",
   "execution_count": 42,
   "id": "20bc3ff7",
   "metadata": {},
   "outputs": [],
   "source": [
    "d1={1:\"eshant\",2:\"riyan\",3:\"Tanishta\",4:\"Esha\"}\n",
    "s=d1.copy()"
   ]
  },
  {
   "cell_type": "code",
   "execution_count": 43,
   "id": "286e0faf",
   "metadata": {},
   "outputs": [
    {
     "data": {
      "text/plain": [
       "{1: 'eshant', 2: 'riyan', 3: 'Tanishta', 4: 'Esha'}"
      ]
     },
     "execution_count": 43,
     "metadata": {},
     "output_type": "execute_result"
    }
   ],
   "source": [
    "s"
   ]
  },
  {
   "cell_type": "code",
   "execution_count": null,
   "id": "e7c7c6bd",
   "metadata": {},
   "outputs": [],
   "source": []
  }
 ],
 "metadata": {
  "kernelspec": {
   "display_name": "Python 3",
   "language": "python",
   "name": "python3"
  },
  "language_info": {
   "codemirror_mode": {
    "name": "ipython",
    "version": 3
   },
   "file_extension": ".py",
   "mimetype": "text/x-python",
   "name": "python",
   "nbconvert_exporter": "python",
   "pygments_lexer": "ipython3",
   "version": "3.8.8"
  }
 },
 "nbformat": 4,
 "nbformat_minor": 5
}
