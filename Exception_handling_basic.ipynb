{
 "cells": [
  {
   "cell_type": "markdown",
   "id": "e94b7ec2",
   "metadata": {},
   "source": [
    "# Exception Handling basics"
   ]
  },
  {
   "cell_type": "markdown",
   "id": "dcbed66a",
   "metadata": {},
   "source": [
    "Different types of exception which can occur and the syntax to write those codes"
   ]
  },
  {
   "cell_type": "code",
   "execution_count": null,
   "id": "3bd1b1e5",
   "metadata": {},
   "outputs": [],
   "source": []
  },
  {
   "cell_type": "markdown",
   "id": "6410e225",
   "metadata": {},
   "source": [
    "# Index Error"
   ]
  },
  {
   "cell_type": "code",
   "execution_count": 2,
   "id": "06ba5e4e",
   "metadata": {},
   "outputs": [
    {
     "name": "stdout",
     "output_type": "stream",
     "text": [
      "Wrong index\n",
      "Program is over \n"
     ]
    }
   ],
   "source": [
    "try:\n",
    "    a=[1,2,3,4,5]\n",
    "    print(a[7])\n",
    "except IndexError:\n",
    "    print(\"Wrong index\")  #This statement will execute if there is a wrong index given\n",
    "except:\n",
    "    print(\"Some other exception has occured\")#This statement will execute if there is any other exception occuring other than IndexError\n",
    "else:\n",
    "    print(\"No exception has occured\")#This statement will execute if there is no exception\n",
    "finally:\n",
    "    print(\"Program is over \")#This statement will always run no matter what"
   ]
  },
  {
   "cell_type": "code",
   "execution_count": null,
   "id": "6391b828",
   "metadata": {},
   "outputs": [],
   "source": []
  },
  {
   "cell_type": "markdown",
   "id": "b0fb1a55",
   "metadata": {},
   "source": [
    "Let's run a case when no error occurs for the same code"
   ]
  },
  {
   "cell_type": "code",
   "execution_count": 3,
   "id": "0ad6eabe",
   "metadata": {},
   "outputs": [
    {
     "name": "stdout",
     "output_type": "stream",
     "text": [
      "3\n",
      "No exception has occured\n",
      "Program is over \n"
     ]
    }
   ],
   "source": [
    "try:\n",
    "    a=[1,2,3,4,5]\n",
    "    print(a[2]) #In this case we have given a correct index\n",
    "except IndexError:\n",
    "    print(\"Wrong index\") \n",
    "except:\n",
    "    print(\"Some other exception has occured\")\n",
    "else:\n",
    "    print(\"No exception has occured\")\n",
    "finally:\n",
    "    print(\"Program is over \")"
   ]
  },
  {
   "cell_type": "code",
   "execution_count": null,
   "id": "b7046347",
   "metadata": {},
   "outputs": [],
   "source": []
  },
  {
   "cell_type": "markdown",
   "id": "7c3ac981",
   "metadata": {},
   "source": [
    "# ZeroDivisionError"
   ]
  },
  {
   "cell_type": "code",
   "execution_count": 4,
   "id": "9ab18872",
   "metadata": {},
   "outputs": [
    {
     "name": "stdout",
     "output_type": "stream",
     "text": [
      "You cannot divisde a number by 0\n",
      "The program is over\n"
     ]
    }
   ],
   "source": [
    "try:\n",
    "    a=2\n",
    "    b=0\n",
    "    print(a/b)\n",
    "except ZeroDivisionError:\n",
    "    print(\"You cannot divisde a number by 0\")\n",
    "except:\n",
    "    print(\"Some exception has occured in the run time\")\n",
    "else:\n",
    "    print(\"Program is executed \")\n",
    "finally:\n",
    "    print(\"The program is over\")"
   ]
  },
  {
   "cell_type": "code",
   "execution_count": null,
   "id": "9d81b5f1",
   "metadata": {},
   "outputs": [],
   "source": []
  },
  {
   "cell_type": "markdown",
   "id": "2b9a9d5e",
   "metadata": {},
   "source": [
    "# Key Error\n"
   ]
  },
  {
   "cell_type": "code",
   "execution_count": 5,
   "id": "221f74ad",
   "metadata": {},
   "outputs": [
    {
     "name": "stdout",
     "output_type": "stream",
     "text": [
      "Wrong key given\n"
     ]
    }
   ],
   "source": [
    "try:\n",
    "    b={}\n",
    "    print(b['a'])\n",
    "except KeyError:\n",
    "    print(\"Wrong key given\")\n",
    "except:\n",
    "    print(\"Some other exception has occured\")\n",
    "else:\n",
    "    print(\"No exception\")\n",
    "    "
   ]
  },
  {
   "cell_type": "code",
   "execution_count": null,
   "id": "8dd67f81",
   "metadata": {},
   "outputs": [],
   "source": []
  },
  {
   "cell_type": "code",
   "execution_count": null,
   "id": "b57589b5",
   "metadata": {},
   "outputs": [],
   "source": []
  },
  {
   "cell_type": "markdown",
   "id": "64cfe91d",
   "metadata": {},
   "source": [
    "It is not necessary for us to put the \"finally\" block in our code"
   ]
  },
  {
   "cell_type": "code",
   "execution_count": null,
   "id": "213e3c70",
   "metadata": {},
   "outputs": [],
   "source": []
  },
  {
   "cell_type": "markdown",
   "id": "7e68e1d1",
   "metadata": {},
   "source": [
    "# IOError\n"
   ]
  },
  {
   "cell_type": "markdown",
   "id": "c6872b73",
   "metadata": {},
   "source": [
    "If we are trying to read a file which is not present in the system we will get this error"
   ]
  },
  {
   "cell_type": "code",
   "execution_count": 7,
   "id": "d268860f",
   "metadata": {},
   "outputs": [
    {
     "name": "stdout",
     "output_type": "stream",
     "text": [
      "An Input Output error has occured bcoz the file is not present\n"
     ]
    }
   ],
   "source": [
    "try:\n",
    "    f=open(\"letsgo.txt\",\"r\")\n",
    "    t=f.read()\n",
    "    print(t)\n",
    "except IOError:\n",
    "    print(\"An Input Output error has occured bcoz the file is not present\")\n",
    "except:\n",
    "    print(\"Some other exception has occured\")\n",
    "else:\n",
    "    print(\"No exception has occured\")"
   ]
  },
  {
   "cell_type": "code",
   "execution_count": null,
   "id": "949caada",
   "metadata": {},
   "outputs": [],
   "source": []
  },
  {
   "cell_type": "code",
   "execution_count": null,
   "id": "881965d4",
   "metadata": {},
   "outputs": [],
   "source": []
  },
  {
   "cell_type": "markdown",
   "id": "706863c4",
   "metadata": {},
   "source": [
    "# The normal Except block will execute in the below example ......."
   ]
  },
  {
   "cell_type": "code",
   "execution_count": 9,
   "id": "c123a76c",
   "metadata": {},
   "outputs": [
    {
     "name": "stdout",
     "output_type": "stream",
     "text": [
      "Some general error has occured plz check\n",
      "Program is over\n"
     ]
    }
   ],
   "source": [
    "try:\n",
    "    \n",
    "    b=[1,2,3]\n",
    "    c={1:2}\n",
    "    print(d)   #Oberse carefully d is not defined only\n",
    "    a=5/0\n",
    "    print(a)\n",
    "    print(b[7])\n",
    "    print(c[5])\n",
    "except IOError:\n",
    "    print(\"Input Output Error\")\n",
    "except ZeroDivisionError:\n",
    "    print(\"Wrong Division\")\n",
    "except KeyError:\n",
    "    print(\"KeyError has occured\")\n",
    "except IndexError:\n",
    "    print(\"Index Error has occured\")\n",
    "except:\n",
    "    print(\"Some general error has occured plz check\")  #Since first d is printed so we will raise this exception\n",
    "else:\n",
    "    print(\"No error has occured\")\n",
    "finally:\n",
    "    print(\"Program is over\")"
   ]
  },
  {
   "cell_type": "code",
   "execution_count": null,
   "id": "e2a31015",
   "metadata": {},
   "outputs": [],
   "source": []
  },
  {
   "cell_type": "markdown",
   "id": "e17b2479",
   "metadata": {},
   "source": [
    "In the above example we have seen 4 different types of excepion happening but the one which is happening first in the program that will be raised as an exception first"
   ]
  },
  {
   "cell_type": "code",
   "execution_count": null,
   "id": "1a18f199",
   "metadata": {},
   "outputs": [],
   "source": []
  },
  {
   "cell_type": "markdown",
   "id": "074c7670",
   "metadata": {},
   "source": [
    "# User Defined Exception"
   ]
  },
  {
   "cell_type": "code",
   "execution_count": 11,
   "id": "5cbfff9c",
   "metadata": {},
   "outputs": [
    {
     "name": "stdout",
     "output_type": "stream",
     "text": [
      "enter a number more than 89\n",
      "the number is  9\n",
      "no error\n",
      "Program is over\n"
     ]
    }
   ],
   "source": [
    "class zyadakam(Exception):\n",
    "    pass\n",
    "def n(num):\n",
    "    if num<8:\n",
    "        raise zyadakam\n",
    "    else:\n",
    "        return num\n",
    "try:\n",
    "    a=int(input(\"enter a number more than 8\"))\n",
    "    h=n(a)\n",
    "    print(\"the number is \",h)\n",
    "except zyadakam:\n",
    "    print(\"Sorry you have entered a number less than 8\")\n",
    "else:\n",
    "    print('no error')\n",
    "finally:\n",
    "    print(\"Program is over\")"
   ]
  },
  {
   "cell_type": "code",
   "execution_count": null,
   "id": "19c84aae",
   "metadata": {},
   "outputs": [],
   "source": []
  },
  {
   "cell_type": "markdown",
   "id": "535bb265",
   "metadata": {},
   "source": [
    "In the above program we have created our own exception that if the user enters a number less than 8 we will raise an exception otherwise it will run correctly and give us the output"
   ]
  },
  {
   "cell_type": "code",
   "execution_count": null,
   "id": "d864a6e2",
   "metadata": {},
   "outputs": [],
   "source": []
  }
 ],
 "metadata": {
  "kernelspec": {
   "display_name": "Python 3",
   "language": "python",
   "name": "python3"
  },
  "language_info": {
   "codemirror_mode": {
    "name": "ipython",
    "version": 3
   },
   "file_extension": ".py",
   "mimetype": "text/x-python",
   "name": "python",
   "nbconvert_exporter": "python",
   "pygments_lexer": "ipython3",
   "version": "3.8.8"
  }
 },
 "nbformat": 4,
 "nbformat_minor": 5
}
