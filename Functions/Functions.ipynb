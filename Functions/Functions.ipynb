{
 "cells": [
  {
   "cell_type": "markdown",
   "id": "02cf17bd",
   "metadata": {},
   "source": [
    "# <div class='alert alert-info'> Functions </div>"
   ]
  },
  {
   "cell_type": "code",
   "execution_count": 12,
   "id": "0f8b3983",
   "metadata": {},
   "outputs": [],
   "source": [
    "def test1():\n",
    "    print(\"Hello\")"
   ]
  },
  {
   "cell_type": "code",
   "execution_count": 13,
   "id": "2c5b9049",
   "metadata": {},
   "outputs": [],
   "source": [
    "def test2():\n",
    "    return 5"
   ]
  },
  {
   "cell_type": "code",
   "execution_count": 14,
   "id": "62ea9d3d",
   "metadata": {},
   "outputs": [
    {
     "name": "stdout",
     "output_type": "stream",
     "text": [
      "Hello\n"
     ]
    }
   ],
   "source": [
    "test1()"
   ]
  },
  {
   "cell_type": "code",
   "execution_count": 15,
   "id": "74503cb8",
   "metadata": {},
   "outputs": [
    {
     "data": {
      "text/plain": [
       "5"
      ]
     },
     "execution_count": 15,
     "metadata": {},
     "output_type": "execute_result"
    }
   ],
   "source": [
    "test2()"
   ]
  },
  {
   "cell_type": "code",
   "execution_count": null,
   "id": "cd1e9431",
   "metadata": {},
   "outputs": [],
   "source": []
  },
  {
   "cell_type": "code",
   "execution_count": 16,
   "id": "7c67c4fb",
   "metadata": {},
   "outputs": [],
   "source": [
    "def test3():\n",
    "    return 1,2,['eshant','hello','Games'],(1,2,3)"
   ]
  },
  {
   "cell_type": "code",
   "execution_count": 19,
   "id": "56d2739f",
   "metadata": {},
   "outputs": [],
   "source": [
    "a,b,c,d=test3()"
   ]
  },
  {
   "cell_type": "code",
   "execution_count": 20,
   "id": "369e4d6f",
   "metadata": {},
   "outputs": [
    {
     "data": {
      "text/plain": [
       "1"
      ]
     },
     "execution_count": 20,
     "metadata": {},
     "output_type": "execute_result"
    }
   ],
   "source": [
    "a"
   ]
  },
  {
   "cell_type": "code",
   "execution_count": 21,
   "id": "75a76d93",
   "metadata": {},
   "outputs": [
    {
     "data": {
      "text/plain": [
       "2"
      ]
     },
     "execution_count": 21,
     "metadata": {},
     "output_type": "execute_result"
    }
   ],
   "source": [
    "b"
   ]
  },
  {
   "cell_type": "code",
   "execution_count": 22,
   "id": "370b95c7",
   "metadata": {},
   "outputs": [
    {
     "data": {
      "text/plain": [
       "['eshant', 'hello', 'Games']"
      ]
     },
     "execution_count": 22,
     "metadata": {},
     "output_type": "execute_result"
    }
   ],
   "source": [
    "c"
   ]
  },
  {
   "cell_type": "code",
   "execution_count": 23,
   "id": "9d3977c6",
   "metadata": {},
   "outputs": [
    {
     "data": {
      "text/plain": [
       "(1, 2, 3)"
      ]
     },
     "execution_count": 23,
     "metadata": {},
     "output_type": "execute_result"
    }
   ],
   "source": [
    "d"
   ]
  },
  {
   "cell_type": "code",
   "execution_count": null,
   "id": "4afb9531",
   "metadata": {},
   "outputs": [],
   "source": []
  },
  {
   "cell_type": "markdown",
   "id": "a2a93ffa",
   "metadata": {},
   "source": [
    "### <font color='blue'>IP address on which we are working on</font>"
   ]
  },
  {
   "cell_type": "code",
   "execution_count": 24,
   "id": "9982f187",
   "metadata": {},
   "outputs": [],
   "source": [
    "import socket"
   ]
  },
  {
   "cell_type": "code",
   "execution_count": 25,
   "id": "5cd0839f",
   "metadata": {},
   "outputs": [
    {
     "data": {
      "text/plain": [
       "'127.0.0.1'"
      ]
     },
     "execution_count": 25,
     "metadata": {},
     "output_type": "execute_result"
    }
   ],
   "source": [
    "socket.gethostbyname(socket.gethostname())"
   ]
  },
  {
   "cell_type": "markdown",
   "id": "a4ad8797",
   "metadata": {},
   "source": [
    "### <font color='blue'>Reading a doc file</font>"
   ]
  },
  {
   "cell_type": "code",
   "execution_count": 26,
   "id": "4cf35c7c",
   "metadata": {},
   "outputs": [],
   "source": [
    "import docx2txt"
   ]
  },
  {
   "cell_type": "code",
   "execution_count": 27,
   "id": "04708d9c",
   "metadata": {},
   "outputs": [
    {
     "name": "stdout",
     "output_type": "stream",
     "text": [
      "Eshant is having a nice time.\n",
      "\n",
      "\n",
      "\n",
      "\n",
      "\n",
      "\n",
      "\n",
      "Lets go to play\n"
     ]
    }
   ],
   "source": [
    "a=docx2txt.process('test.docx')\n",
    "print(a)"
   ]
  },
  {
   "cell_type": "code",
   "execution_count": null,
   "id": "5049a23e",
   "metadata": {},
   "outputs": [],
   "source": []
  },
  {
   "cell_type": "markdown",
   "id": "75570f46",
   "metadata": {},
   "source": [
    "### <font color='blue'>To take any number of Inputs and to return the inputs as tuple</font>"
   ]
  },
  {
   "cell_type": "code",
   "execution_count": 28,
   "id": "e6cdf80a",
   "metadata": {},
   "outputs": [],
   "source": [
    "def test5(*args):\n",
    "    return args"
   ]
  },
  {
   "cell_type": "code",
   "execution_count": 29,
   "id": "db56c8b4",
   "metadata": {},
   "outputs": [],
   "source": [
    "k=test5(1,2,3,45,1+9j,[1,23,4,556],(1,23,4))"
   ]
  },
  {
   "cell_type": "code",
   "execution_count": 30,
   "id": "5339a969",
   "metadata": {},
   "outputs": [
    {
     "data": {
      "text/plain": [
       "(1, 2, 3, 45, (1+9j), [1, 23, 4, 556], (1, 23, 4))"
      ]
     },
     "execution_count": 30,
     "metadata": {},
     "output_type": "execute_result"
    }
   ],
   "source": [
    "k"
   ]
  },
  {
   "cell_type": "code",
   "execution_count": 31,
   "id": "fa2889cf",
   "metadata": {},
   "outputs": [
    {
     "data": {
      "text/plain": [
       "complex"
      ]
     },
     "execution_count": 31,
     "metadata": {},
     "output_type": "execute_result"
    }
   ],
   "source": [
    "type(k[4])"
   ]
  },
  {
   "cell_type": "code",
   "execution_count": 32,
   "id": "c9dd59eb",
   "metadata": {},
   "outputs": [
    {
     "data": {
      "text/plain": [
       "tuple"
      ]
     },
     "execution_count": 32,
     "metadata": {},
     "output_type": "execute_result"
    }
   ],
   "source": [
    "type(k)"
   ]
  },
  {
   "cell_type": "markdown",
   "id": "0fe952df",
   "metadata": {},
   "source": [
    "### <font color='blue'>To do the same thing and return a list</font>"
   ]
  },
  {
   "cell_type": "code",
   "execution_count": 33,
   "id": "0b5ff323",
   "metadata": {},
   "outputs": [],
   "source": [
    "def test6(*args):\n",
    "    print(type(args))\n",
    "    return list(args)"
   ]
  },
  {
   "cell_type": "code",
   "execution_count": 34,
   "id": "72ae6459",
   "metadata": {},
   "outputs": [
    {
     "name": "stdout",
     "output_type": "stream",
     "text": [
      "<class 'tuple'>\n"
     ]
    }
   ],
   "source": [
    "k=test6(1,2,3,45,1+9j,[1,23,4,556],(1,23,4))"
   ]
  },
  {
   "cell_type": "code",
   "execution_count": 35,
   "id": "da0dd8e4",
   "metadata": {},
   "outputs": [
    {
     "data": {
      "text/plain": [
       "[1, 2, 3, 45, (1+9j), [1, 23, 4, 556], (1, 23, 4)]"
      ]
     },
     "execution_count": 35,
     "metadata": {},
     "output_type": "execute_result"
    }
   ],
   "source": [
    "k"
   ]
  },
  {
   "cell_type": "code",
   "execution_count": 36,
   "id": "919ac87e",
   "metadata": {},
   "outputs": [
    {
     "data": {
      "text/plain": [
       "list"
      ]
     },
     "execution_count": 36,
     "metadata": {},
     "output_type": "execute_result"
    }
   ],
   "source": [
    "type(k)"
   ]
  },
  {
   "cell_type": "code",
   "execution_count": null,
   "id": "af54d31a",
   "metadata": {},
   "outputs": [],
   "source": []
  },
  {
   "cell_type": "markdown",
   "id": "da133dc4",
   "metadata": {},
   "source": [
    "**`args`** is not a keyword"
   ]
  },
  {
   "cell_type": "code",
   "execution_count": 37,
   "id": "4b5f0bb2",
   "metadata": {},
   "outputs": [],
   "source": [
    "def test6(*eshant):\n",
    "    return list(eshant)"
   ]
  },
  {
   "cell_type": "code",
   "execution_count": 38,
   "id": "2db88022",
   "metadata": {},
   "outputs": [],
   "source": [
    "k=test6(1,2,3,45,1+9j,[1,23,4,556],(1,23,4))"
   ]
  },
  {
   "cell_type": "code",
   "execution_count": 39,
   "id": "f99598b9",
   "metadata": {},
   "outputs": [
    {
     "data": {
      "text/plain": [
       "[1, 2, 3, 45, (1+9j), [1, 23, 4, 556], (1, 23, 4)]"
      ]
     },
     "execution_count": 39,
     "metadata": {},
     "output_type": "execute_result"
    }
   ],
   "source": [
    "k"
   ]
  },
  {
   "cell_type": "code",
   "execution_count": null,
   "id": "0afdfb2a",
   "metadata": {},
   "outputs": [],
   "source": []
  },
  {
   "cell_type": "code",
   "execution_count": 40,
   "id": "5959cfc3",
   "metadata": {},
   "outputs": [],
   "source": [
    "d={'eshant':'hello','mello':'gello'}"
   ]
  },
  {
   "cell_type": "code",
   "execution_count": 41,
   "id": "a93d231f",
   "metadata": {},
   "outputs": [
    {
     "name": "stdout",
     "output_type": "stream",
     "text": [
      "hello\n",
      "gello\n"
     ]
    }
   ],
   "source": [
    "for i in d.keys():\n",
    "    print(d[i])"
   ]
  },
  {
   "cell_type": "code",
   "execution_count": null,
   "id": "e8814cc8",
   "metadata": {},
   "outputs": [],
   "source": []
  },
  {
   "cell_type": "code",
   "execution_count": null,
   "id": "1281cca4",
   "metadata": {},
   "outputs": [],
   "source": []
  },
  {
   "cell_type": "markdown",
   "id": "b76eafd9",
   "metadata": {},
   "source": [
    "### <font color='blue'>To return a Dictionary</font>"
   ]
  },
  {
   "cell_type": "code",
   "execution_count": 42,
   "id": "a0697560",
   "metadata": {},
   "outputs": [],
   "source": [
    "def test8(**eshant):  #This can take any number of key value pairs\n",
    "    return eshant\n",
    "    "
   ]
  },
  {
   "cell_type": "code",
   "execution_count": 43,
   "id": "af56e0dd",
   "metadata": {},
   "outputs": [
    {
     "data": {
      "text/plain": [
       "{'a': 3, 'b': 4, 't': 10}"
      ]
     },
     "execution_count": 43,
     "metadata": {},
     "output_type": "execute_result"
    }
   ],
   "source": [
    "test8(a=3,b=4,t=10)"
   ]
  },
  {
   "cell_type": "code",
   "execution_count": 44,
   "id": "903886f9",
   "metadata": {},
   "outputs": [
    {
     "data": {
      "text/plain": [
       "{'a': ['a', 'b'], 'hello': 3}"
      ]
     },
     "execution_count": 44,
     "metadata": {},
     "output_type": "execute_result"
    }
   ],
   "source": [
    "test8(a=['a','b'],hello=3)"
   ]
  },
  {
   "cell_type": "markdown",
   "id": "fc792014",
   "metadata": {},
   "source": [
    "**We can't take integer as a key**"
   ]
  },
  {
   "cell_type": "code",
   "execution_count": null,
   "id": "dfb799ee",
   "metadata": {},
   "outputs": [],
   "source": []
  },
  {
   "cell_type": "markdown",
   "id": "ac26f7d6",
   "metadata": {},
   "source": [
    "### <font color='blue'>Function inside another Function</font>"
   ]
  },
  {
   "cell_type": "code",
   "execution_count": 45,
   "id": "468995cd",
   "metadata": {},
   "outputs": [],
   "source": [
    "def a1(a):\n",
    "    return a+\" DAS\"\n",
    "def a2(b):\n",
    "    return b+\" das\"\n",
    "def a3(func):\n",
    "    return func(\"eshant\")"
   ]
  },
  {
   "cell_type": "code",
   "execution_count": 46,
   "id": "f19ed692",
   "metadata": {},
   "outputs": [
    {
     "data": {
      "text/plain": [
       "'eshant das'"
      ]
     },
     "execution_count": 46,
     "metadata": {},
     "output_type": "execute_result"
    }
   ],
   "source": [
    "a3(a2)"
   ]
  },
  {
   "cell_type": "code",
   "execution_count": 47,
   "id": "ce8cc612",
   "metadata": {},
   "outputs": [
    {
     "data": {
      "text/plain": [
       "'eshant DAS'"
      ]
     },
     "execution_count": 47,
     "metadata": {},
     "output_type": "execute_result"
    }
   ],
   "source": [
    "a3(a1)"
   ]
  },
  {
   "cell_type": "code",
   "execution_count": null,
   "id": "2fe1142b",
   "metadata": {},
   "outputs": [],
   "source": []
  },
  {
   "cell_type": "code",
   "execution_count": null,
   "id": "906f7dd4",
   "metadata": {},
   "outputs": [],
   "source": []
  },
  {
   "cell_type": "markdown",
   "id": "66d2dede",
   "metadata": {},
   "source": [
    "## <div class='alert alert-info'> Decorators </div>"
   ]
  },
  {
   "cell_type": "code",
   "execution_count": 48,
   "id": "b0541c42",
   "metadata": {},
   "outputs": [],
   "source": [
    "def test18(func):\n",
    "    def test19():\n",
    "        print(\"This is test19 and whatever i will print here should be printed in other function as I am a decorator\")\n",
    "        func()\n",
    "    return test19()"
   ]
  },
  {
   "cell_type": "code",
   "execution_count": 49,
   "id": "914c0821",
   "metadata": {},
   "outputs": [],
   "source": [
    "def test20():\n",
    "    print(\"This is test 20\")"
   ]
  },
  {
   "cell_type": "code",
   "execution_count": 50,
   "id": "2b64f01d",
   "metadata": {},
   "outputs": [
    {
     "name": "stdout",
     "output_type": "stream",
     "text": [
      "This is test19 and whatever i will print here should be printed in other function as I am a decorator\n",
      "This is test 20\n"
     ]
    }
   ],
   "source": [
    "test18(test20)"
   ]
  },
  {
   "cell_type": "code",
   "execution_count": null,
   "id": "5004d98b",
   "metadata": {},
   "outputs": [],
   "source": []
  },
  {
   "cell_type": "code",
   "execution_count": 51,
   "id": "0fe84fc9",
   "metadata": {},
   "outputs": [],
   "source": [
    "import os"
   ]
  },
  {
   "cell_type": "markdown",
   "id": "8dbfd8c5",
   "metadata": {},
   "source": [
    "**With the help of decorators**"
   ]
  },
  {
   "cell_type": "code",
   "execution_count": 52,
   "id": "afedebea",
   "metadata": {},
   "outputs": [],
   "source": [
    "def test18(func):\n",
    "    def test19():\n",
    "        print(\"This is test19 and whatever i will print here should be printed in other function as I am a decorator\")\n",
    "        print(os.getcwd())\n",
    "        func()\n",
    "    return test19  #HERE we have removed () symbol"
   ]
  },
  {
   "cell_type": "code",
   "execution_count": 53,
   "id": "d2298b86",
   "metadata": {},
   "outputs": [],
   "source": [
    "@test18\n",
    "def test20():\n",
    "    print(\"this is test 20\")"
   ]
  },
  {
   "cell_type": "code",
   "execution_count": 54,
   "id": "88b90c0f",
   "metadata": {},
   "outputs": [
    {
     "name": "stdout",
     "output_type": "stream",
     "text": [
      "This is test19 and whatever i will print here should be printed in other function as I am a decorator\n",
      "/Users/eshantdas/Desktop/Intership/Functions\n",
      "this is test 20\n"
     ]
    }
   ],
   "source": [
    "test20()"
   ]
  },
  {
   "cell_type": "raw",
   "id": "656d42ed",
   "metadata": {},
   "source": []
  },
  {
   "cell_type": "markdown",
   "id": "a9e92d19",
   "metadata": {},
   "source": [
    "When we are only calling test20 still test18 is executing"
   ]
  },
  {
   "cell_type": "code",
   "execution_count": null,
   "id": "bb3d962f",
   "metadata": {},
   "outputs": [],
   "source": []
  },
  {
   "cell_type": "code",
   "execution_count": null,
   "id": "94e83b8d",
   "metadata": {},
   "outputs": [],
   "source": []
  },
  {
   "cell_type": "code",
   "execution_count": 55,
   "id": "379bcde7",
   "metadata": {},
   "outputs": [],
   "source": [
    "import time"
   ]
  },
  {
   "cell_type": "markdown",
   "id": "9db5f340",
   "metadata": {},
   "source": [
    "### <font color='blue'>Program to find the execution time of any function</font>"
   ]
  },
  {
   "cell_type": "code",
   "execution_count": 56,
   "id": "44ae6b60",
   "metadata": {},
   "outputs": [],
   "source": [
    "def test25(func) : \n",
    "    def test26():\n",
    "        print(\"this wil give you executation time of a function \") \n",
    "        start = time.time()\n",
    "        func()\n",
    "        print(func())\n",
    "        end = time.time()\n",
    "        print(end -start)\n",
    "    return  test26\n",
    "\n",
    "def test27() -> int:\n",
    "    \"\"\"\n",
    "    this is a functin whichi will take a decorator for calculating a executation timeing of a functioin \n",
    "    \"\"\"\n",
    "    l = [4,5,6,7,8,8]\n",
    "    l1 = []\n",
    "    for i in l :\n",
    "        if type(i) == int :\n",
    "            l1.append(i)\n",
    "    return l1\n"
   ]
  },
  {
   "cell_type": "code",
   "execution_count": 57,
   "id": "1944748d",
   "metadata": {},
   "outputs": [
    {
     "data": {
      "text/plain": [
       "[4, 5, 6, 7, 8, 8]"
      ]
     },
     "execution_count": 57,
     "metadata": {},
     "output_type": "execute_result"
    }
   ],
   "source": [
    "test27()"
   ]
  },
  {
   "cell_type": "code",
   "execution_count": null,
   "id": "9fca4845",
   "metadata": {},
   "outputs": [],
   "source": []
  },
  {
   "cell_type": "code",
   "execution_count": 58,
   "id": "91a4268b",
   "metadata": {},
   "outputs": [],
   "source": [
    "def test25(func) : \n",
    "    def test26():\n",
    "        print(\"this wil give you executation time of a function \") \n",
    "        start = time.time()\n",
    "        func()\n",
    "        print(func())  #IF we don't use this then we wont get ouput in case of a return\n",
    "        end = time.time()\n",
    "        print(end -start)\n",
    "    return  test26"
   ]
  },
  {
   "cell_type": "code",
   "execution_count": 59,
   "id": "d0bf17eb",
   "metadata": {},
   "outputs": [],
   "source": [
    "@test25\n",
    "def test27() -> int:  #--> basically shows it is going to return an integer\n",
    "    \"\"\"\n",
    "    this is a functin whichi will take a decorator for calculating a executation timeing of a functioin \n",
    "    \"\"\"\n",
    "    l = [4,5,6,7,8,8]\n",
    "    l1 = []\n",
    "    for i in l :\n",
    "        if type(i) == int :\n",
    "            l1.append(i)\n",
    "    return l1\n"
   ]
  },
  {
   "cell_type": "code",
   "execution_count": 60,
   "id": "4c784381",
   "metadata": {},
   "outputs": [
    {
     "name": "stdout",
     "output_type": "stream",
     "text": [
      "this wil give you executation time of a function \n",
      "[4, 5, 6, 7, 8, 8]\n",
      "3.981590270996094e-05\n"
     ]
    }
   ],
   "source": [
    "test27()"
   ]
  },
  {
   "cell_type": "code",
   "execution_count": null,
   "id": "050bc09f",
   "metadata": {},
   "outputs": [],
   "source": []
  },
  {
   "cell_type": "code",
   "execution_count": null,
   "id": "09b1eb4f",
   "metadata": {},
   "outputs": [],
   "source": []
  },
  {
   "cell_type": "markdown",
   "id": "7c4fa6d4",
   "metadata": {},
   "source": [
    "#### You may have noticed when we use return instead of print we don't get a valid output so to solve that we need to give \n",
    "#### return func()"
   ]
  },
  {
   "cell_type": "code",
   "execution_count": 61,
   "id": "af58a132",
   "metadata": {},
   "outputs": [],
   "source": [
    "def test1(func) : \n",
    "    def test2():\n",
    "        \n",
    "        print(\"i am inside test2 \" ) \n",
    "        func()\n",
    "        #print(func())\n",
    "        \n",
    "        print(\"functino executed \")\n",
    "        return func()\n",
    "    return test2"
   ]
  },
  {
   "cell_type": "code",
   "execution_count": 62,
   "id": "2788fcff",
   "metadata": {},
   "outputs": [],
   "source": [
    "@test1\n",
    "def test4():\n",
    "    return 5+6"
   ]
  },
  {
   "cell_type": "code",
   "execution_count": 63,
   "id": "6d761113",
   "metadata": {},
   "outputs": [
    {
     "name": "stdout",
     "output_type": "stream",
     "text": [
      "i am inside test2 \n",
      "functino executed \n"
     ]
    },
    {
     "data": {
      "text/plain": [
       "11"
      ]
     },
     "execution_count": 63,
     "metadata": {},
     "output_type": "execute_result"
    }
   ],
   "source": [
    "test4()"
   ]
  },
  {
   "cell_type": "code",
   "execution_count": null,
   "id": "fa1157a5",
   "metadata": {},
   "outputs": [],
   "source": []
  },
  {
   "cell_type": "code",
   "execution_count": null,
   "id": "eb766e2c",
   "metadata": {},
   "outputs": [],
   "source": []
  },
  {
   "cell_type": "code",
   "execution_count": 64,
   "id": "a46c95ca",
   "metadata": {},
   "outputs": [],
   "source": [
    "def test6(func) :\n",
    "    def test7(*args,**kwargs):\n",
    "        func(*args,**kwargs)\n",
    "        print(func(*args,**kwargs))\n",
    "        print(\"this is my decorator functinon\") \n",
    "        return func(*args,**kwargs)\n",
    "    return test7"
   ]
  },
  {
   "cell_type": "code",
   "execution_count": 65,
   "id": "f8f2745f",
   "metadata": {},
   "outputs": [],
   "source": [
    "@test6\n",
    "def test8(a,b):\n",
    "    return a+b"
   ]
  },
  {
   "cell_type": "code",
   "execution_count": 66,
   "id": "ffe56e07",
   "metadata": {},
   "outputs": [
    {
     "name": "stdout",
     "output_type": "stream",
     "text": [
      "eshantdas\n",
      "this is my decorator functinon\n"
     ]
    },
    {
     "data": {
      "text/plain": [
       "'eshantdas'"
      ]
     },
     "execution_count": 66,
     "metadata": {},
     "output_type": "execute_result"
    }
   ],
   "source": [
    "test8('eshant','das')"
   ]
  },
  {
   "cell_type": "markdown",
   "id": "9dc7bdb4",
   "metadata": {},
   "source": [
    "- It is always better to give * args and ** kwargs so that we don't face any error"
   ]
  },
  {
   "cell_type": "code",
   "execution_count": null,
   "id": "c20c1226",
   "metadata": {},
   "outputs": [],
   "source": []
  },
  {
   "cell_type": "code",
   "execution_count": null,
   "id": "399c285c",
   "metadata": {},
   "outputs": [],
   "source": []
  },
  {
   "cell_type": "markdown",
   "id": "16b36328",
   "metadata": {},
   "source": [
    "### <div class='alert alert-info'> Lambda Function </div>"
   ]
  },
  {
   "cell_type": "code",
   "execution_count": 67,
   "id": "6f899b71",
   "metadata": {},
   "outputs": [
    {
     "data": {
      "text/plain": [
       "<function __main__.<lambda>(a, b)>"
      ]
     },
     "execution_count": 67,
     "metadata": {},
     "output_type": "execute_result"
    }
   ],
   "source": [
    "lambda a,b:a+b"
   ]
  },
  {
   "cell_type": "code",
   "execution_count": 68,
   "id": "8c4caabc",
   "metadata": {},
   "outputs": [],
   "source": [
    "c=lambda a,b:a+b #We are storing the lamba fucntion inside a varaible"
   ]
  },
  {
   "cell_type": "code",
   "execution_count": 69,
   "id": "d95117f0",
   "metadata": {},
   "outputs": [
    {
     "data": {
      "text/plain": [
       "'Eshant Das'"
      ]
     },
     "execution_count": 69,
     "metadata": {},
     "output_type": "execute_result"
    }
   ],
   "source": [
    "c(\"Eshant \",\"Das\")"
   ]
  },
  {
   "cell_type": "code",
   "execution_count": 70,
   "id": "8fbf0b95",
   "metadata": {},
   "outputs": [
    {
     "data": {
      "text/plain": [
       "20"
      ]
     },
     "execution_count": 70,
     "metadata": {},
     "output_type": "execute_result"
    }
   ],
   "source": [
    "c(10,10)"
   ]
  },
  {
   "cell_type": "code",
   "execution_count": null,
   "id": "d67abc33",
   "metadata": {},
   "outputs": [],
   "source": []
  },
  {
   "cell_type": "code",
   "execution_count": 71,
   "id": "e186bb5e",
   "metadata": {},
   "outputs": [],
   "source": [
    "g=lambda a,b,c:a*b+c"
   ]
  },
  {
   "cell_type": "code",
   "execution_count": 72,
   "id": "d72d6ac2",
   "metadata": {},
   "outputs": [
    {
     "data": {
      "text/plain": [
       "230"
      ]
     },
     "execution_count": 72,
     "metadata": {},
     "output_type": "execute_result"
    }
   ],
   "source": [
    "g(20,10,30)"
   ]
  },
  {
   "cell_type": "code",
   "execution_count": null,
   "id": "0489bc24",
   "metadata": {},
   "outputs": [],
   "source": []
  },
  {
   "cell_type": "markdown",
   "id": "fdf850be",
   "metadata": {},
   "source": [
    "## <font color='blue'> Map </font>"
   ]
  },
  {
   "cell_type": "code",
   "execution_count": 73,
   "id": "6a5858bc",
   "metadata": {},
   "outputs": [],
   "source": [
    "l=[1,2,3,4,5,6]"
   ]
  },
  {
   "cell_type": "code",
   "execution_count": 74,
   "id": "0e70e16e",
   "metadata": {},
   "outputs": [],
   "source": [
    "#WE want to get output [11,12,13,14,15,16]"
   ]
  },
  {
   "cell_type": "code",
   "execution_count": 75,
   "id": "a3521c64",
   "metadata": {},
   "outputs": [],
   "source": [
    "def test12(a):\n",
    "    return a+10"
   ]
  },
  {
   "cell_type": "code",
   "execution_count": 76,
   "id": "be146d1b",
   "metadata": {},
   "outputs": [
    {
     "data": {
      "text/plain": [
       "[11, 12, 13, 14, 15, 16]"
      ]
     },
     "execution_count": 76,
     "metadata": {},
     "output_type": "execute_result"
    }
   ],
   "source": [
    "list(map(test12,l))"
   ]
  },
  {
   "cell_type": "code",
   "execution_count": null,
   "id": "397e8b78",
   "metadata": {},
   "outputs": [],
   "source": []
  },
  {
   "cell_type": "markdown",
   "id": "bada72fc",
   "metadata": {},
   "source": [
    "### **Using lambda**"
   ]
  },
  {
   "cell_type": "code",
   "execution_count": 77,
   "id": "6722a75c",
   "metadata": {},
   "outputs": [
    {
     "data": {
      "text/plain": [
       "[11, 12, 13, 14, 15, 16]"
      ]
     },
     "execution_count": 77,
     "metadata": {},
     "output_type": "execute_result"
    }
   ],
   "source": [
    "list(map(lambda a:a+10,l))"
   ]
  },
  {
   "cell_type": "code",
   "execution_count": null,
   "id": "97617319",
   "metadata": {},
   "outputs": [],
   "source": []
  },
  {
   "cell_type": "code",
   "execution_count": null,
   "id": "2aaa69f6",
   "metadata": {},
   "outputs": [],
   "source": []
  },
  {
   "cell_type": "code",
   "execution_count": 78,
   "id": "0ed06f3a",
   "metadata": {},
   "outputs": [],
   "source": [
    "l=['sudh','eshant','das','hello']"
   ]
  },
  {
   "cell_type": "code",
   "execution_count": 79,
   "id": "fd90bb21",
   "metadata": {},
   "outputs": [
    {
     "data": {
      "text/plain": [
       "['SUDH', 'ESHANT', 'DAS', 'HELLO']"
      ]
     },
     "execution_count": 79,
     "metadata": {},
     "output_type": "execute_result"
    }
   ],
   "source": [
    "list(map(lambda a:a.upper(),l))"
   ]
  },
  {
   "cell_type": "code",
   "execution_count": null,
   "id": "9bf2f2db",
   "metadata": {},
   "outputs": [],
   "source": []
  },
  {
   "cell_type": "code",
   "execution_count": null,
   "id": "c0792db4",
   "metadata": {},
   "outputs": [],
   "source": []
  },
  {
   "cell_type": "code",
   "execution_count": 80,
   "id": "b2f1dd6a",
   "metadata": {},
   "outputs": [],
   "source": [
    "#length of all the elements"
   ]
  },
  {
   "cell_type": "code",
   "execution_count": 81,
   "id": "a6e9ccf8",
   "metadata": {},
   "outputs": [
    {
     "data": {
      "text/plain": [
       "[4, 6, 3, 5]"
      ]
     },
     "execution_count": 81,
     "metadata": {},
     "output_type": "execute_result"
    }
   ],
   "source": [
    "list(map(lambda a:len(a),l))"
   ]
  },
  {
   "cell_type": "code",
   "execution_count": null,
   "id": "6ed28280",
   "metadata": {},
   "outputs": [],
   "source": []
  },
  {
   "cell_type": "markdown",
   "id": "6c9bf839",
   "metadata": {},
   "source": [
    "## <font color='blue'> Filter Function</font>"
   ]
  },
  {
   "cell_type": "code",
   "execution_count": 82,
   "id": "5df9a96f",
   "metadata": {},
   "outputs": [],
   "source": [
    "l=[1,2,3,4,5,6,7,8]"
   ]
  },
  {
   "cell_type": "code",
   "execution_count": 83,
   "id": "63da3900",
   "metadata": {},
   "outputs": [
    {
     "data": {
      "text/plain": [
       "[2, 4, 6, 8]"
      ]
     },
     "execution_count": 83,
     "metadata": {},
     "output_type": "execute_result"
    }
   ],
   "source": [
    "[i for i in l if i%2==0]"
   ]
  },
  {
   "cell_type": "code",
   "execution_count": 84,
   "id": "2a0d3af7",
   "metadata": {},
   "outputs": [],
   "source": [
    "b=lambda a:a if a%2==0 else None"
   ]
  },
  {
   "cell_type": "code",
   "execution_count": 85,
   "id": "bf31e519",
   "metadata": {},
   "outputs": [
    {
     "data": {
      "text/plain": [
       "[None, 2, None, 4, None, 6, None, 8]"
      ]
     },
     "execution_count": 85,
     "metadata": {},
     "output_type": "execute_result"
    }
   ],
   "source": [
    "list(map(b,l))"
   ]
  },
  {
   "cell_type": "code",
   "execution_count": null,
   "id": "29fb9d34",
   "metadata": {},
   "outputs": [],
   "source": []
  },
  {
   "cell_type": "markdown",
   "id": "23e6e1bc",
   "metadata": {},
   "source": [
    "**Filter** --> It always works in true and False"
   ]
  },
  {
   "cell_type": "code",
   "execution_count": 86,
   "id": "abb9ad92",
   "metadata": {},
   "outputs": [
    {
     "data": {
      "text/plain": [
       "[2, 4, 6, 8]"
      ]
     },
     "execution_count": 86,
     "metadata": {},
     "output_type": "execute_result"
    }
   ],
   "source": [
    "list(filter(b,l))"
   ]
  },
  {
   "cell_type": "code",
   "execution_count": null,
   "id": "5c1cedd4",
   "metadata": {},
   "outputs": [],
   "source": []
  },
  {
   "cell_type": "code",
   "execution_count": null,
   "id": "d1e71477",
   "metadata": {},
   "outputs": [],
   "source": []
  },
  {
   "cell_type": "code",
   "execution_count": null,
   "id": "ee569b42",
   "metadata": {},
   "outputs": [],
   "source": []
  },
  {
   "cell_type": "code",
   "execution_count": 87,
   "id": "f1d23210",
   "metadata": {},
   "outputs": [],
   "source": [
    "#multiplication of elements"
   ]
  },
  {
   "cell_type": "code",
   "execution_count": 88,
   "id": "d9c16c51",
   "metadata": {},
   "outputs": [
    {
     "data": {
      "text/plain": [
       "[1, 2, 3, 4, 5, 6, 7, 8]"
      ]
     },
     "execution_count": 88,
     "metadata": {},
     "output_type": "execute_result"
    }
   ],
   "source": [
    "l"
   ]
  },
  {
   "cell_type": "code",
   "execution_count": 89,
   "id": "12990892",
   "metadata": {},
   "outputs": [
    {
     "data": {
      "text/plain": [
       "[10, 20, 30, 40, 50, 60, 70, 80]"
      ]
     },
     "execution_count": 89,
     "metadata": {},
     "output_type": "execute_result"
    }
   ],
   "source": [
    "list(map(lambda a:a*10,l))"
   ]
  },
  {
   "cell_type": "raw",
   "id": "fda2919d",
   "metadata": {},
   "source": []
  },
  {
   "cell_type": "markdown",
   "id": "b753042b",
   "metadata": {},
   "source": [
    "### <font color='blue'> Reduce</font>"
   ]
  },
  {
   "cell_type": "markdown",
   "id": "9b9ab7a8",
   "metadata": {},
   "source": [
    "###### But we wanted the multiplication of 1* 2 * 3 * 4 * 5 * 6"
   ]
  },
  {
   "cell_type": "code",
   "execution_count": 90,
   "id": "6a967029",
   "metadata": {},
   "outputs": [],
   "source": [
    "from functools import reduce"
   ]
  },
  {
   "cell_type": "code",
   "execution_count": 91,
   "id": "305934a3",
   "metadata": {},
   "outputs": [
    {
     "data": {
      "text/plain": [
       "40320"
      ]
     },
     "execution_count": 91,
     "metadata": {},
     "output_type": "execute_result"
    }
   ],
   "source": [
    "reduce(lambda a,b:a*b,l)"
   ]
  },
  {
   "cell_type": "code",
   "execution_count": 92,
   "id": "490957da",
   "metadata": {},
   "outputs": [
    {
     "ename": "TypeError",
     "evalue": "<lambda>() missing 1 required positional argument: 'c'",
     "output_type": "error",
     "traceback": [
      "\u001b[0;31m---------------------------------------------------------------------------\u001b[0m",
      "\u001b[0;31mTypeError\u001b[0m                                 Traceback (most recent call last)",
      "Input \u001b[0;32mIn [92]\u001b[0m, in \u001b[0;36m<cell line: 1>\u001b[0;34m()\u001b[0m\n\u001b[0;32m----> 1\u001b[0m \u001b[43mreduce\u001b[49m\u001b[43m(\u001b[49m\u001b[38;5;28;43;01mlambda\u001b[39;49;00m\u001b[43m \u001b[49m\u001b[43ma\u001b[49m\u001b[43m,\u001b[49m\u001b[43mb\u001b[49m\u001b[43m,\u001b[49m\u001b[43mc\u001b[49m\u001b[43m:\u001b[49m\u001b[43ma\u001b[49m\u001b[38;5;241;43m*\u001b[39;49m\u001b[43mb\u001b[49m\u001b[38;5;241;43m*\u001b[39;49m\u001b[43mc\u001b[49m\u001b[43m,\u001b[49m\u001b[43ml\u001b[49m\u001b[43m)\u001b[49m\n",
      "\u001b[0;31mTypeError\u001b[0m: <lambda>() missing 1 required positional argument: 'c'"
     ]
    }
   ],
   "source": [
    "reduce(lambda a,b,c:a*b*c,l)"
   ]
  },
  {
   "cell_type": "code",
   "execution_count": null,
   "id": "2b753c77",
   "metadata": {},
   "outputs": [],
   "source": []
  },
  {
   "cell_type": "code",
   "execution_count": 93,
   "id": "1a9ea10a",
   "metadata": {},
   "outputs": [
    {
     "data": {
      "text/plain": [
       "3"
      ]
     },
     "execution_count": 93,
     "metadata": {},
     "output_type": "execute_result"
    }
   ],
   "source": [
    "l1=[3]\n",
    "reduce(lambda a,b:a*b,l1) #Only exception"
   ]
  },
  {
   "cell_type": "code",
   "execution_count": null,
   "id": "fbf70872",
   "metadata": {},
   "outputs": [],
   "source": []
  },
  {
   "cell_type": "code",
   "execution_count": 94,
   "id": "2aed56c1",
   "metadata": {},
   "outputs": [],
   "source": [
    "def test99(a,b)->int:\n",
    "    '''This is telling us we should send integer value'''\n",
    "    return a+b"
   ]
  },
  {
   "cell_type": "code",
   "execution_count": 95,
   "id": "8f38d8cb",
   "metadata": {},
   "outputs": [
    {
     "data": {
      "text/plain": [
       "160"
      ]
     },
     "execution_count": 95,
     "metadata": {},
     "output_type": "execute_result"
    }
   ],
   "source": [
    "test99(100,60)"
   ]
  },
  {
   "cell_type": "code",
   "execution_count": null,
   "id": "cbc62128",
   "metadata": {},
   "outputs": [],
   "source": []
  },
  {
   "cell_type": "code",
   "execution_count": 100,
   "id": "b918c306",
   "metadata": {},
   "outputs": [],
   "source": [
    "def test98(a:int,b:int)->int:\n",
    "    '''This is also telling we should pass integer values but if we pass str or float it won/'t give error'''\n",
    "    return a+b"
   ]
  },
  {
   "cell_type": "code",
   "execution_count": 101,
   "id": "cabc1165",
   "metadata": {},
   "outputs": [
    {
     "data": {
      "text/plain": [
       "60"
      ]
     },
     "execution_count": 101,
     "metadata": {},
     "output_type": "execute_result"
    }
   ],
   "source": [
    "test98(20,40)"
   ]
  },
  {
   "cell_type": "code",
   "execution_count": null,
   "id": "481180a9",
   "metadata": {},
   "outputs": [],
   "source": []
  },
  {
   "cell_type": "code",
   "execution_count": 102,
   "id": "dacf7f8b",
   "metadata": {},
   "outputs": [],
   "source": [
    "#default value\n",
    "def test97(a=10,b=20):\n",
    "    return a+b"
   ]
  },
  {
   "cell_type": "code",
   "execution_count": 103,
   "id": "ed4f2cf9",
   "metadata": {},
   "outputs": [
    {
     "data": {
      "text/plain": [
       "60"
      ]
     },
     "execution_count": 103,
     "metadata": {},
     "output_type": "execute_result"
    }
   ],
   "source": [
    "test97(40)"
   ]
  },
  {
   "cell_type": "code",
   "execution_count": 104,
   "id": "ea25c410",
   "metadata": {},
   "outputs": [
    {
     "data": {
      "text/plain": [
       "30"
      ]
     },
     "execution_count": 104,
     "metadata": {},
     "output_type": "execute_result"
    }
   ],
   "source": [
    "test97()"
   ]
  },
  {
   "cell_type": "code",
   "execution_count": 106,
   "id": "6bf0173a",
   "metadata": {},
   "outputs": [
    {
     "data": {
      "text/plain": [
       "910"
      ]
     },
     "execution_count": 106,
     "metadata": {},
     "output_type": "execute_result"
    }
   ],
   "source": [
    "test97(10,900)"
   ]
  },
  {
   "cell_type": "raw",
   "id": "754a2335",
   "metadata": {},
   "source": [
    "                                    #Happy Learning"
   ]
  }
 ],
 "metadata": {
  "kernelspec": {
   "display_name": "Python 3 (ipykernel)",
   "language": "python",
   "name": "python3"
  },
  "language_info": {
   "codemirror_mode": {
    "name": "ipython",
    "version": 3
   },
   "file_extension": ".py",
   "mimetype": "text/x-python",
   "name": "python",
   "nbconvert_exporter": "python",
   "pygments_lexer": "ipython3",
   "version": "3.9.12"
  }
 },
 "nbformat": 4,
 "nbformat_minor": 5
}
