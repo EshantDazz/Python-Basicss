{
 "cells": [
  {
   "cell_type": "code",
   "execution_count": 1,
   "id": "d895084c",
   "metadata": {},
   "outputs": [],
   "source": [
    "import os"
   ]
  },
  {
   "cell_type": "code",
   "execution_count": 4,
   "id": "6ba0fd05",
   "metadata": {},
   "outputs": [],
   "source": [
    "f=open(\"first.txt\",\"w\")\n",
    "s='''Eshant is having a nice time\n",
    " Lets have fun\n",
    " Happy journey'''\n",
    "f.write(s)\n",
    "f.close()"
   ]
  },
  {
   "cell_type": "markdown",
   "id": "212f0335",
   "metadata": {},
   "source": [
    "# Rename function"
   ]
  },
  {
   "cell_type": "code",
   "execution_count": 5,
   "id": "eca23887",
   "metadata": {},
   "outputs": [],
   "source": [
    "os.rename(\"first.txt\",\"file1.txt\")"
   ]
  },
  {
   "cell_type": "markdown",
   "id": "b75a64a3",
   "metadata": {},
   "source": [
    "After running this code you will observe the file name has been changed to \"file1\""
   ]
  },
  {
   "cell_type": "code",
   "execution_count": null,
   "id": "8db8582a",
   "metadata": {},
   "outputs": [],
   "source": []
  },
  {
   "cell_type": "code",
   "execution_count": 6,
   "id": "19aca6b8",
   "metadata": {},
   "outputs": [],
   "source": [
    "#Creating another file with same contents\n",
    "f=open(\"second.txt\",\"w\")\n",
    "s='''Eshant is having a nice time\n",
    " Lets have fun\n",
    " Happy journey'''\n",
    "f.write(s)\n",
    "f.close()"
   ]
  },
  {
   "cell_type": "markdown",
   "id": "3dc580a4",
   "metadata": {},
   "source": [
    "# Remove function to delete this \"second\" txt"
   ]
  },
  {
   "cell_type": "code",
   "execution_count": 7,
   "id": "1e8e121a",
   "metadata": {},
   "outputs": [],
   "source": [
    "os.remove(\"second.txt\")"
   ]
  },
  {
   "cell_type": "markdown",
   "id": "9ec334fc",
   "metadata": {},
   "source": [
    "After this code you will observe that your second txt file has been deleted\n"
   ]
  },
  {
   "cell_type": "code",
   "execution_count": null,
   "id": "1f14b586",
   "metadata": {},
   "outputs": [],
   "source": []
  },
  {
   "cell_type": "markdown",
   "id": "5c7cecd5",
   "metadata": {},
   "source": [
    "# Making a directory with function \"mkdir\""
   ]
  },
  {
   "cell_type": "code",
   "execution_count": 8,
   "id": "8d931ae5",
   "metadata": {},
   "outputs": [],
   "source": [
    "os.mkdir(\"Hello\")"
   ]
  },
  {
   "cell_type": "markdown",
   "id": "16e59a11",
   "metadata": {},
   "source": [
    "After this code you will oberse that you have created a new folder in that particular location with the name Hello"
   ]
  },
  {
   "cell_type": "markdown",
   "id": "549590d9",
   "metadata": {},
   "source": [
    "# Deleting that directory"
   ]
  },
  {
   "cell_type": "code",
   "execution_count": 9,
   "id": "7b43b643",
   "metadata": {},
   "outputs": [],
   "source": [
    "os.rmdir(\"Hello\")"
   ]
  },
  {
   "cell_type": "markdown",
   "id": "7ebeb799",
   "metadata": {},
   "source": [
    "The folder which u created with the name Hello has been deleted now"
   ]
  },
  {
   "cell_type": "code",
   "execution_count": null,
   "id": "aa6698e4",
   "metadata": {},
   "outputs": [],
   "source": []
  },
  {
   "cell_type": "markdown",
   "id": "42df95df",
   "metadata": {},
   "source": [
    "# To get the location where you are working with all your files,programs and directories"
   ]
  },
  {
   "cell_type": "code",
   "execution_count": 10,
   "id": "ea5c7b49",
   "metadata": {},
   "outputs": [
    {
     "data": {
      "text/plain": [
       "'C:\\\\Users\\\\HP\\\\gfg\\\\OS'"
      ]
     },
     "execution_count": 10,
     "metadata": {},
     "output_type": "execute_result"
    }
   ],
   "source": [
    "os.getcwd()"
   ]
  },
  {
   "cell_type": "code",
   "execution_count": null,
   "id": "96e8c683",
   "metadata": {},
   "outputs": [],
   "source": []
  }
 ],
 "metadata": {
  "kernelspec": {
   "display_name": "Python 3",
   "language": "python",
   "name": "python3"
  },
  "language_info": {
   "codemirror_mode": {
    "name": "ipython",
    "version": 3
   },
   "file_extension": ".py",
   "mimetype": "text/x-python",
   "name": "python",
   "nbconvert_exporter": "python",
   "pygments_lexer": "ipython3",
   "version": "3.8.8"
  }
 },
 "nbformat": 4,
 "nbformat_minor": 5
}
